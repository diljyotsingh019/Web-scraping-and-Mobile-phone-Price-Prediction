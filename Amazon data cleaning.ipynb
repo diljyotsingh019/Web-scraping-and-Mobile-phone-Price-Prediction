{
 "cells": [
  {
   "cell_type": "code",
   "execution_count": 107,
   "metadata": {
    "ExecuteTime": {
     "end_time": "2021-11-09T10:17:19.342769Z",
     "start_time": "2021-11-09T10:17:19.322120Z"
    }
   },
   "outputs": [],
   "source": [
    "import numpy as np\n",
    "import pandas as pd\n",
    "import matplotlib.pyplot as plt\n",
    "import seaborn as sns\n",
    "from warnings import filterwarnings"
   ]
  },
  {
   "cell_type": "code",
   "execution_count": 108,
   "metadata": {
    "ExecuteTime": {
     "end_time": "2021-11-09T10:17:19.372909Z",
     "start_time": "2021-11-09T10:17:19.349895Z"
    }
   },
   "outputs": [],
   "source": [
    "filterwarnings(\"ignore\")\n",
    "pd.options.display.max_columns = None"
   ]
  },
  {
   "cell_type": "code",
   "execution_count": 109,
   "metadata": {
    "ExecuteTime": {
     "end_time": "2021-11-09T10:17:19.510851Z",
     "start_time": "2021-11-09T10:17:19.380943Z"
    }
   },
   "outputs": [
    {
     "data": {
      "text/html": [
       "<div>\n",
       "<style scoped>\n",
       "    .dataframe tbody tr th:only-of-type {\n",
       "        vertical-align: middle;\n",
       "    }\n",
       "\n",
       "    .dataframe tbody tr th {\n",
       "        vertical-align: top;\n",
       "    }\n",
       "\n",
       "    .dataframe thead th {\n",
       "        text-align: right;\n",
       "    }\n",
       "</style>\n",
       "<table border=\"1\" class=\"dataframe\">\n",
       "  <thead>\n",
       "    <tr style=\"text-align: right;\">\n",
       "      <th></th>\n",
       "      <th>product_title</th>\n",
       "      <th>price</th>\n",
       "      <th>rear_lens1</th>\n",
       "      <th>rear_lens2</th>\n",
       "      <th>screen_size</th>\n",
       "      <th>screen_type</th>\n",
       "      <th>battery_power</th>\n",
       "      <th>ram</th>\n",
       "      <th>inbuilt_storage</th>\n",
       "      <th>expandable_storage</th>\n",
       "      <th>processor_brand</th>\n",
       "      <th>os</th>\n",
       "      <th>warranty</th>\n",
       "    </tr>\n",
       "  </thead>\n",
       "  <tbody>\n",
       "    <tr>\n",
       "      <th>0</th>\n",
       "      <td>Samsung Galaxy M12 (Blue,6GB RAM, 128GB Storag...</td>\n",
       "      <td>₹11,499.00</td>\n",
       "      <td>48 megapixels</td>\n",
       "      <td>Quad Rear Camera (48 MP + 5 MP + 2 MP + 2 MP) ...</td>\n",
       "      <td>6.5 inches</td>\n",
       "      <td>LCD</td>\n",
       "      <td>6000</td>\n",
       "      <td>6 GB</td>\n",
       "      <td>128</td>\n",
       "      <td>128 GB</td>\n",
       "      <td>Exynos 850</td>\n",
       "      <td>Android 11</td>\n",
       "      <td>1 year manufacturer warranty for device and 6 ...</td>\n",
       "    </tr>\n",
       "    <tr>\n",
       "      <th>1</th>\n",
       "      <td>Samsung Galaxy M21 2021 Edition (Arctic Blue, ...</td>\n",
       "      <td>₹13,999.00</td>\n",
       "      <td>48</td>\n",
       "      <td>Triple Rear Camera (48 MP + 8 MP + 5 MP) | 20 ...</td>\n",
       "      <td>6.4 inches</td>\n",
       "      <td>AMOLED</td>\n",
       "      <td>6000</td>\n",
       "      <td>6 GB</td>\n",
       "      <td>128</td>\n",
       "      <td>128 GB</td>\n",
       "      <td>Exynos 9611</td>\n",
       "      <td>Android 11.0;OneUI Core3.1</td>\n",
       "      <td>1 year manufacturer warranty for device and 6 ...</td>\n",
       "    </tr>\n",
       "    <tr>\n",
       "      <th>2</th>\n",
       "      <td>Redmi 9A (Nature Green, 2GB RAM, 32GB Storage)...</td>\n",
       "      <td>NaN</td>\n",
       "      <td>13</td>\n",
       "      <td>Rear Camera (13 MP) | 5 MP Front Camera</td>\n",
       "      <td>6.53 inches</td>\n",
       "      <td>720x1600, HD Plus</td>\n",
       "      <td>5000</td>\n",
       "      <td>2 GB</td>\n",
       "      <td>32</td>\n",
       "      <td>32 GB</td>\n",
       "      <td>Mediatek Helio G25</td>\n",
       "      <td>Android</td>\n",
       "      <td>1 year manufacturer warranty for device and 6 ...</td>\n",
       "    </tr>\n",
       "    <tr>\n",
       "      <th>3</th>\n",
       "      <td>Redmi 9 (Sky Blue, 4GB RAM, 64GB Storage) | 2....</td>\n",
       "      <td>₹8,499.00</td>\n",
       "      <td>13 megapixels</td>\n",
       "      <td>Dual Rear Camera (13 MP + 2 MP) | 5 MP Front C...</td>\n",
       "      <td>6.53 inches</td>\n",
       "      <td>HD+</td>\n",
       "      <td>5000</td>\n",
       "      <td>4 GB</td>\n",
       "      <td>64</td>\n",
       "      <td>64 GB</td>\n",
       "      <td>Mediatek Helio G35</td>\n",
       "      <td>Android</td>\n",
       "      <td>1 year manufacturer warranty for device and 6 ...</td>\n",
       "    </tr>\n",
       "    <tr>\n",
       "      <th>4</th>\n",
       "      <td>Redmi Note 10 Lite (Aurora Blue, 4GB RAM, 64GB...</td>\n",
       "      <td>₹12,999.00</td>\n",
       "      <td>48 megapixels</td>\n",
       "      <td>Quad Rear Camera (48MP + 2MP + 2MP+ + 2MP) | 1...</td>\n",
       "      <td>6.67 inches</td>\n",
       "      <td>LCD</td>\n",
       "      <td>5020</td>\n",
       "      <td>4 GB</td>\n",
       "      <td>64</td>\n",
       "      <td>64 GB</td>\n",
       "      <td>Qualcomm</td>\n",
       "      <td>MIUI 12</td>\n",
       "      <td>1 year manufacturer warranty for device and 6 ...</td>\n",
       "    </tr>\n",
       "    <tr>\n",
       "      <th>...</th>\n",
       "      <td>...</td>\n",
       "      <td>...</td>\n",
       "      <td>...</td>\n",
       "      <td>...</td>\n",
       "      <td>...</td>\n",
       "      <td>...</td>\n",
       "      <td>...</td>\n",
       "      <td>...</td>\n",
       "      <td>...</td>\n",
       "      <td>...</td>\n",
       "      <td>...</td>\n",
       "      <td>...</td>\n",
       "      <td>...</td>\n",
       "    </tr>\n",
       "    <tr>\n",
       "      <th>157</th>\n",
       "      <td>Vivo Y12G (Phantom Black 3GB RAM, 64GB Stoarge...</td>\n",
       "      <td>₹11,990.00</td>\n",
       "      <td>13 megapixels</td>\n",
       "      <td>Rear</td>\n",
       "      <td>16.55 cm</td>\n",
       "      <td>LCD</td>\n",
       "      <td>5000</td>\n",
       "      <td>3 GB</td>\n",
       "      <td>64</td>\n",
       "      <td>256 GB</td>\n",
       "      <td>Qualcomm</td>\n",
       "      <td>Funtouch OS 11 (Based on Android 11)</td>\n",
       "      <td>1 year warranty provided by the manufacturer f...</td>\n",
       "    </tr>\n",
       "    <tr>\n",
       "      <th>158</th>\n",
       "      <td>Redmi Poco C3 (Matte Black, 4 RAM /64 Storage)</td>\n",
       "      <td>NaN</td>\n",
       "      <td>13 megapixels</td>\n",
       "      <td>13MP + 2MP + 2MP, 5MP Front Camera</td>\n",
       "      <td>6.43 inches</td>\n",
       "      <td>HD+</td>\n",
       "      <td>5000</td>\n",
       "      <td>4 GB</td>\n",
       "      <td>4 GB</td>\n",
       "      <td>64 GB</td>\n",
       "      <td>MediaTek Helio G35</td>\n",
       "      <td>Android</td>\n",
       "      <td>NaN</td>\n",
       "    </tr>\n",
       "    <tr>\n",
       "      <th>159</th>\n",
       "      <td>Redmi Poco C3 (Arctic Blue, 3 RAM / 32 Storage)</td>\n",
       "      <td>NaN</td>\n",
       "      <td>NaN</td>\n",
       "      <td>NaN</td>\n",
       "      <td>NaN</td>\n",
       "      <td>NaN</td>\n",
       "      <td>NaN</td>\n",
       "      <td>NaN</td>\n",
       "      <td>NaN</td>\n",
       "      <td>NaN</td>\n",
       "      <td>NaN</td>\n",
       "      <td>NaN</td>\n",
       "      <td>NaN</td>\n",
       "    </tr>\n",
       "    <tr>\n",
       "      <th>160</th>\n",
       "      <td>OPPO A15 (Dynamic Black, 3GB RAM, 32GB Storage)</td>\n",
       "      <td>₹10,990.00</td>\n",
       "      <td>NaN</td>\n",
       "      <td>NaN</td>\n",
       "      <td>NaN</td>\n",
       "      <td>NaN</td>\n",
       "      <td>NaN</td>\n",
       "      <td>NaN</td>\n",
       "      <td>NaN</td>\n",
       "      <td>NaN</td>\n",
       "      <td>NaN</td>\n",
       "      <td>NaN</td>\n",
       "      <td>NaN</td>\n",
       "    </tr>\n",
       "    <tr>\n",
       "      <th>161</th>\n",
       "      <td>Vivo V21e 5G (Dark Pearl, 8GB RAM, 128GB Stora...</td>\n",
       "      <td>₹24,990.00</td>\n",
       "      <td>64 megapixels</td>\n",
       "      <td>Dual Rear Camera (64 MP + 8 MP) | 32 MP Front ...</td>\n",
       "      <td>6.44 inches</td>\n",
       "      <td>AMOLED</td>\n",
       "      <td>4000</td>\n",
       "      <td>8 GB</td>\n",
       "      <td>128</td>\n",
       "      <td>128 GB</td>\n",
       "      <td>Mediatek Dimensity 700</td>\n",
       "      <td>Funtouch OS 11.1 (Based on Android 11), Androi...</td>\n",
       "      <td>1 year warranty provided by the manufacturer f...</td>\n",
       "    </tr>\n",
       "  </tbody>\n",
       "</table>\n",
       "<p>162 rows × 13 columns</p>\n",
       "</div>"
      ],
      "text/plain": [
       "                                         product_title       price  \\\n",
       "0    Samsung Galaxy M12 (Blue,6GB RAM, 128GB Storag...  ₹11,499.00   \n",
       "1    Samsung Galaxy M21 2021 Edition (Arctic Blue, ...  ₹13,999.00   \n",
       "2    Redmi 9A (Nature Green, 2GB RAM, 32GB Storage)...         NaN   \n",
       "3    Redmi 9 (Sky Blue, 4GB RAM, 64GB Storage) | 2....   ₹8,499.00   \n",
       "4    Redmi Note 10 Lite (Aurora Blue, 4GB RAM, 64GB...  ₹12,999.00   \n",
       "..                                                 ...         ...   \n",
       "157  Vivo Y12G (Phantom Black 3GB RAM, 64GB Stoarge...  ₹11,990.00   \n",
       "158     Redmi Poco C3 (Matte Black, 4 RAM /64 Storage)         NaN   \n",
       "159    Redmi Poco C3 (Arctic Blue, 3 RAM / 32 Storage)         NaN   \n",
       "160    OPPO A15 (Dynamic Black, 3GB RAM, 32GB Storage)  ₹10,990.00   \n",
       "161  Vivo V21e 5G (Dark Pearl, 8GB RAM, 128GB Stora...  ₹24,990.00   \n",
       "\n",
       "        rear_lens1                                         rear_lens2  \\\n",
       "0    48 megapixels  Quad Rear Camera (48 MP + 5 MP + 2 MP + 2 MP) ...   \n",
       "1               48  Triple Rear Camera (48 MP + 8 MP + 5 MP) | 20 ...   \n",
       "2               13            Rear Camera (13 MP) | 5 MP Front Camera   \n",
       "3    13 megapixels  Dual Rear Camera (13 MP + 2 MP) | 5 MP Front C...   \n",
       "4    48 megapixels  Quad Rear Camera (48MP + 2MP + 2MP+ + 2MP) | 1...   \n",
       "..             ...                                                ...   \n",
       "157  13 megapixels                                               Rear   \n",
       "158  13 megapixels                 13MP + 2MP + 2MP, 5MP Front Camera   \n",
       "159            NaN                                                NaN   \n",
       "160            NaN                                                NaN   \n",
       "161  64 megapixels  Dual Rear Camera (64 MP + 8 MP) | 32 MP Front ...   \n",
       "\n",
       "     screen_size        screen_type battery_power   ram inbuilt_storage  \\\n",
       "0     6.5 inches                LCD          6000  6 GB             128   \n",
       "1     6.4 inches             AMOLED          6000  6 GB             128   \n",
       "2    6.53 inches  720x1600, HD Plus          5000  2 GB              32   \n",
       "3    6.53 inches                HD+          5000  4 GB              64   \n",
       "4    6.67 inches                LCD          5020  4 GB              64   \n",
       "..           ...                ...           ...   ...             ...   \n",
       "157     16.55 cm                LCD          5000  3 GB              64   \n",
       "158  6.43 inches                HD+          5000  4 GB            4 GB   \n",
       "159          NaN                NaN           NaN   NaN             NaN   \n",
       "160          NaN                NaN           NaN   NaN             NaN   \n",
       "161  6.44 inches             AMOLED          4000  8 GB             128   \n",
       "\n",
       "    expandable_storage         processor_brand  \\\n",
       "0               128 GB              Exynos 850   \n",
       "1               128 GB             Exynos 9611   \n",
       "2                32 GB      Mediatek Helio G25   \n",
       "3                64 GB      Mediatek Helio G35   \n",
       "4                64 GB                Qualcomm   \n",
       "..                 ...                     ...   \n",
       "157             256 GB                Qualcomm   \n",
       "158              64 GB      MediaTek Helio G35   \n",
       "159                NaN                     NaN   \n",
       "160                NaN                     NaN   \n",
       "161             128 GB  Mediatek Dimensity 700   \n",
       "\n",
       "                                                    os  \\\n",
       "0                                           Android 11   \n",
       "1                           Android 11.0;OneUI Core3.1   \n",
       "2                                              Android   \n",
       "3                                              Android   \n",
       "4                                              MIUI 12   \n",
       "..                                                 ...   \n",
       "157               Funtouch OS 11 (Based on Android 11)   \n",
       "158                                            Android   \n",
       "159                                                NaN   \n",
       "160                                                NaN   \n",
       "161  Funtouch OS 11.1 (Based on Android 11), Androi...   \n",
       "\n",
       "                                              warranty  \n",
       "0    1 year manufacturer warranty for device and 6 ...  \n",
       "1    1 year manufacturer warranty for device and 6 ...  \n",
       "2    1 year manufacturer warranty for device and 6 ...  \n",
       "3    1 year manufacturer warranty for device and 6 ...  \n",
       "4    1 year manufacturer warranty for device and 6 ...  \n",
       "..                                                 ...  \n",
       "157  1 year warranty provided by the manufacturer f...  \n",
       "158                                                NaN  \n",
       "159                                                NaN  \n",
       "160                                                NaN  \n",
       "161  1 year warranty provided by the manufacturer f...  \n",
       "\n",
       "[162 rows x 13 columns]"
      ]
     },
     "execution_count": 109,
     "metadata": {},
     "output_type": "execute_result"
    }
   ],
   "source": [
    "df = pd.read_csv(\"AmazonMobilePhones.csv\",index_col = 0)\n",
    "df.columns = [\"product_title\",\"price\",\"rear_lens1\",\"rear_lens2\",\"screen_size\",\"screen_type\",\"battery_power\",\"ram\",\"inbuilt_storage\",\"expandable_storage\",\"processor_brand\",\"os\",\"warranty\"]\n",
    "df"
   ]
  },
  {
   "cell_type": "code",
   "execution_count": 110,
   "metadata": {
    "ExecuteTime": {
     "end_time": "2021-11-09T10:17:20.477338Z",
     "start_time": "2021-11-09T10:17:19.516279Z"
    }
   },
   "outputs": [
    {
     "data": {
      "text/plain": [
       "<AxesSubplot:>"
      ]
     },
     "execution_count": 110,
     "metadata": {},
     "output_type": "execute_result"
    },
    {
     "data": {
      "image/png": "[encoded data removed]",
      "text/plain": [
       "<Figure size 432x288 with 2 Axes>"
      ]
     },
     "metadata": {
      "needs_background": "light"
     },
     "output_type": "display_data"
    }
   ],
   "source": [
    "sns.heatmap(df.isnull())"
   ]
  },
  {
   "cell_type": "code",
   "execution_count": 111,
   "metadata": {
    "ExecuteTime": {
     "end_time": "2021-11-09T10:17:20.586545Z",
     "start_time": "2021-11-09T10:17:20.484777Z"
    }
   },
   "outputs": [
    {
     "data": {
      "text/html": [
       "<div>\n",
       "<style scoped>\n",
       "    .dataframe tbody tr th:only-of-type {\n",
       "        vertical-align: middle;\n",
       "    }\n",
       "\n",
       "    .dataframe tbody tr th {\n",
       "        vertical-align: top;\n",
       "    }\n",
       "\n",
       "    .dataframe thead th {\n",
       "        text-align: right;\n",
       "    }\n",
       "</style>\n",
       "<table border=\"1\" class=\"dataframe\">\n",
       "  <thead>\n",
       "    <tr style=\"text-align: right;\">\n",
       "      <th></th>\n",
       "      <th>product_title</th>\n",
       "      <th>price</th>\n",
       "      <th>rear_lens1</th>\n",
       "      <th>rear_lens2</th>\n",
       "      <th>screen_size</th>\n",
       "      <th>screen_type</th>\n",
       "      <th>battery_power</th>\n",
       "      <th>ram</th>\n",
       "      <th>inbuilt_storage</th>\n",
       "      <th>expandable_storage</th>\n",
       "      <th>processor_brand</th>\n",
       "      <th>os</th>\n",
       "      <th>warranty</th>\n",
       "    </tr>\n",
       "  </thead>\n",
       "  <tbody>\n",
       "    <tr>\n",
       "      <th>0</th>\n",
       "      <td>Samsung Galaxy M12 (Blue,6GB RAM, 128GB Storag...</td>\n",
       "      <td>₹11,499.00</td>\n",
       "      <td>48 megapixels</td>\n",
       "      <td>Quad Rear Camera (48 MP + 5 MP + 2 MP + 2 MP) ...</td>\n",
       "      <td>6.5 inches</td>\n",
       "      <td>LCD</td>\n",
       "      <td>6000</td>\n",
       "      <td>6 GB</td>\n",
       "      <td>128</td>\n",
       "      <td>128 GB</td>\n",
       "      <td>Exynos 850</td>\n",
       "      <td>Android 11</td>\n",
       "      <td>1 year manufacturer warranty for device and 6 ...</td>\n",
       "    </tr>\n",
       "    <tr>\n",
       "      <th>1</th>\n",
       "      <td>Samsung Galaxy M21 2021 Edition (Arctic Blue, ...</td>\n",
       "      <td>₹13,999.00</td>\n",
       "      <td>48</td>\n",
       "      <td>Triple Rear Camera (48 MP + 8 MP + 5 MP) | 20 ...</td>\n",
       "      <td>6.4 inches</td>\n",
       "      <td>AMOLED</td>\n",
       "      <td>6000</td>\n",
       "      <td>6 GB</td>\n",
       "      <td>128</td>\n",
       "      <td>128 GB</td>\n",
       "      <td>Exynos 9611</td>\n",
       "      <td>Android 11.0;OneUI Core3.1</td>\n",
       "      <td>1 year manufacturer warranty for device and 6 ...</td>\n",
       "    </tr>\n",
       "    <tr>\n",
       "      <th>2</th>\n",
       "      <td>Redmi 9 (Sky Blue, 4GB RAM, 64GB Storage) | 2....</td>\n",
       "      <td>₹8,499.00</td>\n",
       "      <td>13 megapixels</td>\n",
       "      <td>Dual Rear Camera (13 MP + 2 MP) | 5 MP Front C...</td>\n",
       "      <td>6.53 inches</td>\n",
       "      <td>HD+</td>\n",
       "      <td>5000</td>\n",
       "      <td>4 GB</td>\n",
       "      <td>64</td>\n",
       "      <td>64 GB</td>\n",
       "      <td>Mediatek Helio G35</td>\n",
       "      <td>Android</td>\n",
       "      <td>1 year manufacturer warranty for device and 6 ...</td>\n",
       "    </tr>\n",
       "    <tr>\n",
       "      <th>3</th>\n",
       "      <td>Redmi Note 10 Lite (Aurora Blue, 4GB RAM, 64GB...</td>\n",
       "      <td>₹12,999.00</td>\n",
       "      <td>48 megapixels</td>\n",
       "      <td>Quad Rear Camera (48MP + 2MP + 2MP+ + 2MP) | 1...</td>\n",
       "      <td>6.67 inches</td>\n",
       "      <td>LCD</td>\n",
       "      <td>5020</td>\n",
       "      <td>4 GB</td>\n",
       "      <td>64</td>\n",
       "      <td>64 GB</td>\n",
       "      <td>Qualcomm</td>\n",
       "      <td>MIUI 12</td>\n",
       "      <td>1 year manufacturer warranty for device and 6 ...</td>\n",
       "    </tr>\n",
       "    <tr>\n",
       "      <th>4</th>\n",
       "      <td>Samsung Galaxy M12 (Blue,6GB RAM, 128GB Storag...</td>\n",
       "      <td>₹11,499.00</td>\n",
       "      <td>48 megapixels</td>\n",
       "      <td>Quad Rear Camera (48 MP + 5 MP + 2 MP + 2 MP) ...</td>\n",
       "      <td>6.5 inches</td>\n",
       "      <td>LCD</td>\n",
       "      <td>6000</td>\n",
       "      <td>6 GB</td>\n",
       "      <td>128</td>\n",
       "      <td>128 GB</td>\n",
       "      <td>Exynos 850</td>\n",
       "      <td>Android 11</td>\n",
       "      <td>1 year manufacturer warranty for device and 6 ...</td>\n",
       "    </tr>\n",
       "    <tr>\n",
       "      <th>...</th>\n",
       "      <td>...</td>\n",
       "      <td>...</td>\n",
       "      <td>...</td>\n",
       "      <td>...</td>\n",
       "      <td>...</td>\n",
       "      <td>...</td>\n",
       "      <td>...</td>\n",
       "      <td>...</td>\n",
       "      <td>...</td>\n",
       "      <td>...</td>\n",
       "      <td>...</td>\n",
       "      <td>...</td>\n",
       "      <td>...</td>\n",
       "    </tr>\n",
       "    <tr>\n",
       "      <th>93</th>\n",
       "      <td>Tecno Spark 8 (Turquoise Cyan, 2 GB RAM, 64 GB...</td>\n",
       "      <td>₹7,999.00</td>\n",
       "      <td>16 megapixels</td>\n",
       "      <td>Rear; 16MP+AI Lens (AI Portrait, AI Beauty, HD...</td>\n",
       "      <td>6.52 inches</td>\n",
       "      <td>Incell</td>\n",
       "      <td>5000</td>\n",
       "      <td>2 GB</td>\n",
       "      <td>256</td>\n",
       "      <td>64 GB</td>\n",
       "      <td>MediaTek Octa core Helio A25</td>\n",
       "      <td>HiOS 7.6 based on Android 11-Go Edition</td>\n",
       "      <td>12 month warranty</td>\n",
       "    </tr>\n",
       "    <tr>\n",
       "      <th>94</th>\n",
       "      <td>OnePlus 9R 5G (Lake Blue, 8GB RAM, 128GB Storage)</td>\n",
       "      <td>₹36,999.00</td>\n",
       "      <td>48 megapixels</td>\n",
       "      <td>Quad Rear Camera (48 MP + 16 MP + 5 MP + 2 MP)...</td>\n",
       "      <td>6.55 inches</td>\n",
       "      <td>AMOLED</td>\n",
       "      <td>4500</td>\n",
       "      <td>8 GB</td>\n",
       "      <td>128</td>\n",
       "      <td>128 GB</td>\n",
       "      <td>Qualcomm Snapdragon 870</td>\n",
       "      <td>Oxygen OS based on Andriod 11</td>\n",
       "      <td>1 year manufacturer warranty for device and 6 ...</td>\n",
       "    </tr>\n",
       "    <tr>\n",
       "      <th>95</th>\n",
       "      <td>(Renewed) OnePlus Nord 2 5G (Blue Haze, 8GB RA...</td>\n",
       "      <td>₹26,999.00</td>\n",
       "      <td>50 megapixels</td>\n",
       "      <td>50MP+8MP+2MP</td>\n",
       "      <td>6.43 inches</td>\n",
       "      <td>AMOLED</td>\n",
       "      <td>4500 Milliamp Hours</td>\n",
       "      <td>8 GB</td>\n",
       "      <td>128 GB</td>\n",
       "      <td>128 GB</td>\n",
       "      <td>Android 11.0</td>\n",
       "      <td>6 Months Seller Warranty</td>\n",
       "      <td>NaN</td>\n",
       "    </tr>\n",
       "    <tr>\n",
       "      <th>96</th>\n",
       "      <td>Vivo Y12G (Phantom Black 3GB RAM, 64GB Stoarge...</td>\n",
       "      <td>₹11,990.00</td>\n",
       "      <td>13 megapixels</td>\n",
       "      <td>Rear</td>\n",
       "      <td>16.55 cm</td>\n",
       "      <td>LCD</td>\n",
       "      <td>5000</td>\n",
       "      <td>3 GB</td>\n",
       "      <td>64</td>\n",
       "      <td>256 GB</td>\n",
       "      <td>Qualcomm</td>\n",
       "      <td>Funtouch OS 11 (Based on Android 11)</td>\n",
       "      <td>1 year warranty provided by the manufacturer f...</td>\n",
       "    </tr>\n",
       "    <tr>\n",
       "      <th>97</th>\n",
       "      <td>Vivo V21e 5G (Dark Pearl, 8GB RAM, 128GB Stora...</td>\n",
       "      <td>₹24,990.00</td>\n",
       "      <td>64 megapixels</td>\n",
       "      <td>Dual Rear Camera (64 MP + 8 MP) | 32 MP Front ...</td>\n",
       "      <td>6.44 inches</td>\n",
       "      <td>AMOLED</td>\n",
       "      <td>4000</td>\n",
       "      <td>8 GB</td>\n",
       "      <td>128</td>\n",
       "      <td>128 GB</td>\n",
       "      <td>Mediatek Dimensity 700</td>\n",
       "      <td>Funtouch OS 11.1 (Based on Android 11), Androi...</td>\n",
       "      <td>1 year warranty provided by the manufacturer f...</td>\n",
       "    </tr>\n",
       "  </tbody>\n",
       "</table>\n",
       "<p>98 rows × 13 columns</p>\n",
       "</div>"
      ],
      "text/plain": [
       "                                        product_title       price  \\\n",
       "0   Samsung Galaxy M12 (Blue,6GB RAM, 128GB Storag...  ₹11,499.00   \n",
       "1   Samsung Galaxy M21 2021 Edition (Arctic Blue, ...  ₹13,999.00   \n",
       "2   Redmi 9 (Sky Blue, 4GB RAM, 64GB Storage) | 2....   ₹8,499.00   \n",
       "3   Redmi Note 10 Lite (Aurora Blue, 4GB RAM, 64GB...  ₹12,999.00   \n",
       "4   Samsung Galaxy M12 (Blue,6GB RAM, 128GB Storag...  ₹11,499.00   \n",
       "..                                                ...         ...   \n",
       "93  Tecno Spark 8 (Turquoise Cyan, 2 GB RAM, 64 GB...   ₹7,999.00   \n",
       "94  OnePlus 9R 5G (Lake Blue, 8GB RAM, 128GB Storage)  ₹36,999.00   \n",
       "95  (Renewed) OnePlus Nord 2 5G (Blue Haze, 8GB RA...  ₹26,999.00   \n",
       "96  Vivo Y12G (Phantom Black 3GB RAM, 64GB Stoarge...  ₹11,990.00   \n",
       "97  Vivo V21e 5G (Dark Pearl, 8GB RAM, 128GB Stora...  ₹24,990.00   \n",
       "\n",
       "       rear_lens1                                         rear_lens2  \\\n",
       "0   48 megapixels  Quad Rear Camera (48 MP + 5 MP + 2 MP + 2 MP) ...   \n",
       "1              48  Triple Rear Camera (48 MP + 8 MP + 5 MP) | 20 ...   \n",
       "2   13 megapixels  Dual Rear Camera (13 MP + 2 MP) | 5 MP Front C...   \n",
       "3   48 megapixels  Quad Rear Camera (48MP + 2MP + 2MP+ + 2MP) | 1...   \n",
       "4   48 megapixels  Quad Rear Camera (48 MP + 5 MP + 2 MP + 2 MP) ...   \n",
       "..            ...                                                ...   \n",
       "93  16 megapixels  Rear; 16MP+AI Lens (AI Portrait, AI Beauty, HD...   \n",
       "94  48 megapixels  Quad Rear Camera (48 MP + 16 MP + 5 MP + 2 MP)...   \n",
       "95  50 megapixels                                       50MP+8MP+2MP   \n",
       "96  13 megapixels                                               Rear   \n",
       "97  64 megapixels  Dual Rear Camera (64 MP + 8 MP) | 32 MP Front ...   \n",
       "\n",
       "    screen_size screen_type        battery_power   ram inbuilt_storage  \\\n",
       "0    6.5 inches         LCD                 6000  6 GB             128   \n",
       "1    6.4 inches      AMOLED                 6000  6 GB             128   \n",
       "2   6.53 inches         HD+                 5000  4 GB              64   \n",
       "3   6.67 inches         LCD                 5020  4 GB              64   \n",
       "4    6.5 inches         LCD                 6000  6 GB             128   \n",
       "..          ...         ...                  ...   ...             ...   \n",
       "93  6.52 inches      Incell                 5000  2 GB             256   \n",
       "94  6.55 inches      AMOLED                 4500  8 GB             128   \n",
       "95  6.43 inches      AMOLED  4500 Milliamp Hours  8 GB          128 GB   \n",
       "96     16.55 cm         LCD                 5000  3 GB              64   \n",
       "97  6.44 inches      AMOLED                 4000  8 GB             128   \n",
       "\n",
       "   expandable_storage               processor_brand  \\\n",
       "0              128 GB                    Exynos 850   \n",
       "1              128 GB                   Exynos 9611   \n",
       "2               64 GB            Mediatek Helio G35   \n",
       "3               64 GB                      Qualcomm   \n",
       "4              128 GB                    Exynos 850   \n",
       "..                ...                           ...   \n",
       "93              64 GB  MediaTek Octa core Helio A25   \n",
       "94             128 GB       Qualcomm Snapdragon 870   \n",
       "95             128 GB                  Android 11.0   \n",
       "96             256 GB                      Qualcomm   \n",
       "97             128 GB        Mediatek Dimensity 700   \n",
       "\n",
       "                                                   os  \\\n",
       "0                                          Android 11   \n",
       "1                          Android 11.0;OneUI Core3.1   \n",
       "2                                             Android   \n",
       "3                                             MIUI 12   \n",
       "4                                          Android 11   \n",
       "..                                                ...   \n",
       "93            HiOS 7.6 based on Android 11-Go Edition   \n",
       "94                      Oxygen OS based on Andriod 11   \n",
       "95                           6 Months Seller Warranty   \n",
       "96               Funtouch OS 11 (Based on Android 11)   \n",
       "97  Funtouch OS 11.1 (Based on Android 11), Androi...   \n",
       "\n",
       "                                             warranty  \n",
       "0   1 year manufacturer warranty for device and 6 ...  \n",
       "1   1 year manufacturer warranty for device and 6 ...  \n",
       "2   1 year manufacturer warranty for device and 6 ...  \n",
       "3   1 year manufacturer warranty for device and 6 ...  \n",
       "4   1 year manufacturer warranty for device and 6 ...  \n",
       "..                                                ...  \n",
       "93                                  12 month warranty  \n",
       "94  1 year manufacturer warranty for device and 6 ...  \n",
       "95                                                NaN  \n",
       "96  1 year warranty provided by the manufacturer f...  \n",
       "97  1 year warranty provided by the manufacturer f...  \n",
       "\n",
       "[98 rows x 13 columns]"
      ]
     },
     "execution_count": 111,
     "metadata": {},
     "output_type": "execute_result"
    }
   ],
   "source": [
    "new_df = df.drop(\"warranty\",axis = 1).dropna()\n",
    "new_df[\"warranty\"] = df.warranty[new_df.index]\n",
    "new_df.reset_index(drop = True, inplace = True)\n",
    "new_df"
   ]
  },
  {
   "cell_type": "code",
   "execution_count": 112,
   "metadata": {
    "ExecuteTime": {
     "end_time": "2021-11-09T10:17:21.608875Z",
     "start_time": "2021-11-09T10:17:20.592531Z"
    }
   },
   "outputs": [
    {
     "data": {
      "text/plain": [
       "<AxesSubplot:>"
      ]
     },
     "execution_count": 112,
     "metadata": {},
     "output_type": "execute_result"
    },
    {
     "data": {
      "image/png": "[encoded data removed]",
      "text/plain": [
       "<Figure size 432x288 with 2 Axes>"
      ]
     },
     "metadata": {
      "needs_background": "light"
     },
     "output_type": "display_data"
    }
   ],
   "source": [
    "sns.heatmap(new_df.isnull())"
   ]
  },
  {
   "cell_type": "code",
   "execution_count": 113,
   "metadata": {
    "ExecuteTime": {
     "end_time": "2021-11-09T10:17:21.640504Z",
     "start_time": "2021-11-09T10:17:21.613611Z"
    }
   },
   "outputs": [
    {
     "data": {
      "text/html": [
       "<div>\n",
       "<style scoped>\n",
       "    .dataframe tbody tr th:only-of-type {\n",
       "        vertical-align: middle;\n",
       "    }\n",
       "\n",
       "    .dataframe tbody tr th {\n",
       "        vertical-align: top;\n",
       "    }\n",
       "\n",
       "    .dataframe thead th {\n",
       "        text-align: right;\n",
       "    }\n",
       "</style>\n",
       "<table border=\"1\" class=\"dataframe\">\n",
       "  <thead>\n",
       "    <tr style=\"text-align: right;\">\n",
       "      <th></th>\n",
       "      <th>0</th>\n",
       "      <th>1</th>\n",
       "    </tr>\n",
       "  </thead>\n",
       "  <tbody>\n",
       "    <tr>\n",
       "      <th>0</th>\n",
       "      <td>Samsung</td>\n",
       "      <td>Galaxy M12 (Blue,6GB RAM, 128GB Storage) 6 Mon...</td>\n",
       "    </tr>\n",
       "    <tr>\n",
       "      <th>1</th>\n",
       "      <td>Samsung</td>\n",
       "      <td>Galaxy M21 2021 Edition (Arctic Blue, 6GB RAM,...</td>\n",
       "    </tr>\n",
       "    <tr>\n",
       "      <th>2</th>\n",
       "      <td>Redmi</td>\n",
       "      <td>9 (Sky Blue, 4GB RAM, 64GB Storage) | 2.3GHz M...</td>\n",
       "    </tr>\n",
       "    <tr>\n",
       "      <th>3</th>\n",
       "      <td>Redmi</td>\n",
       "      <td>Note 10 Lite (Aurora Blue, 4GB RAM, 64GB Stora...</td>\n",
       "    </tr>\n",
       "    <tr>\n",
       "      <th>4</th>\n",
       "      <td>Samsung</td>\n",
       "      <td>Galaxy M12 (Blue,6GB RAM, 128GB Storage) 6 Mon...</td>\n",
       "    </tr>\n",
       "    <tr>\n",
       "      <th>...</th>\n",
       "      <td>...</td>\n",
       "      <td>...</td>\n",
       "    </tr>\n",
       "    <tr>\n",
       "      <th>93</th>\n",
       "      <td>Tecno</td>\n",
       "      <td>Spark 8 (Turquoise Cyan, 2 GB RAM, 64 GB Stora...</td>\n",
       "    </tr>\n",
       "    <tr>\n",
       "      <th>94</th>\n",
       "      <td>OnePlus</td>\n",
       "      <td>9R 5G (Lake Blue, 8GB RAM, 128GB Storage)</td>\n",
       "    </tr>\n",
       "    <tr>\n",
       "      <th>95</th>\n",
       "      <td>(Renewed)</td>\n",
       "      <td>OnePlus Nord 2 5G (Blue Haze, 8GB RAM, 128GB S...</td>\n",
       "    </tr>\n",
       "    <tr>\n",
       "      <th>96</th>\n",
       "      <td>Vivo</td>\n",
       "      <td>Y12G (Phantom Black 3GB RAM, 64GB Stoarge) wit...</td>\n",
       "    </tr>\n",
       "    <tr>\n",
       "      <th>97</th>\n",
       "      <td>Vivo</td>\n",
       "      <td>V21e 5G (Dark Pearl, 8GB RAM, 128GB Storage) w...</td>\n",
       "    </tr>\n",
       "  </tbody>\n",
       "</table>\n",
       "<p>98 rows × 2 columns</p>\n",
       "</div>"
      ],
      "text/plain": [
       "            0                                                  1\n",
       "0     Samsung  Galaxy M12 (Blue,6GB RAM, 128GB Storage) 6 Mon...\n",
       "1     Samsung  Galaxy M21 2021 Edition (Arctic Blue, 6GB RAM,...\n",
       "2       Redmi  9 (Sky Blue, 4GB RAM, 64GB Storage) | 2.3GHz M...\n",
       "3       Redmi  Note 10 Lite (Aurora Blue, 4GB RAM, 64GB Stora...\n",
       "4     Samsung  Galaxy M12 (Blue,6GB RAM, 128GB Storage) 6 Mon...\n",
       "..        ...                                                ...\n",
       "93      Tecno  Spark 8 (Turquoise Cyan, 2 GB RAM, 64 GB Stora...\n",
       "94    OnePlus          9R 5G (Lake Blue, 8GB RAM, 128GB Storage)\n",
       "95  (Renewed)  OnePlus Nord 2 5G (Blue Haze, 8GB RAM, 128GB S...\n",
       "96       Vivo  Y12G (Phantom Black 3GB RAM, 64GB Stoarge) wit...\n",
       "97       Vivo  V21e 5G (Dark Pearl, 8GB RAM, 128GB Storage) w...\n",
       "\n",
       "[98 rows x 2 columns]"
      ]
     },
     "execution_count": 113,
     "metadata": {},
     "output_type": "execute_result"
    }
   ],
   "source": [
    "product = new_df.product_title.str.split(pat = \" \",n = 1, expand =True)\n",
    "product"
   ]
  },
  {
   "cell_type": "code",
   "execution_count": 114,
   "metadata": {
    "ExecuteTime": {
     "end_time": "2021-11-09T10:17:21.671516Z",
     "start_time": "2021-11-09T10:17:21.650478Z"
    }
   },
   "outputs": [
    {
     "data": {
      "text/plain": [
       "array(['Samsung', 'Redmi', 'OPPO', 'I', 'JIO', 'Tecno', 'OnePlus',\n",
       "       'realme', 'Micromax', 'Vivo', 'Nokia', 'Lava', 'iQOO', 'itel',\n",
       "       'Oppo', 'TECNO', 'Realme', 'Xiaomi', '(Renewed)', 'IKALL',\n",
       "       'KECHAODA', 'Mi'], dtype=object)"
      ]
     },
     "execution_count": 114,
     "metadata": {},
     "output_type": "execute_result"
    }
   ],
   "source": [
    "product[0].unique()"
   ]
  },
  {
   "cell_type": "code",
   "execution_count": 115,
   "metadata": {
    "ExecuteTime": {
     "end_time": "2021-11-09T10:17:21.701912Z",
     "start_time": "2021-11-09T10:17:21.677409Z"
    }
   },
   "outputs": [
    {
     "data": {
      "text/html": [
       "<div>\n",
       "<style scoped>\n",
       "    .dataframe tbody tr th:only-of-type {\n",
       "        vertical-align: middle;\n",
       "    }\n",
       "\n",
       "    .dataframe tbody tr th {\n",
       "        vertical-align: top;\n",
       "    }\n",
       "\n",
       "    .dataframe thead th {\n",
       "        text-align: right;\n",
       "    }\n",
       "</style>\n",
       "<table border=\"1\" class=\"dataframe\">\n",
       "  <thead>\n",
       "    <tr style=\"text-align: right;\">\n",
       "      <th></th>\n",
       "      <th>0</th>\n",
       "      <th>1</th>\n",
       "    </tr>\n",
       "  </thead>\n",
       "  <tbody>\n",
       "    <tr>\n",
       "      <th>72</th>\n",
       "      <td>(Renewed)</td>\n",
       "      <td>Moto G5S Plus (Grey)</td>\n",
       "    </tr>\n",
       "    <tr>\n",
       "      <th>95</th>\n",
       "      <td>(Renewed)</td>\n",
       "      <td>OnePlus Nord 2 5G (Blue Haze, 8GB RAM, 128GB S...</td>\n",
       "    </tr>\n",
       "  </tbody>\n",
       "</table>\n",
       "</div>"
      ],
      "text/plain": [
       "            0                                                  1\n",
       "72  (Renewed)                               Moto G5S Plus (Grey)\n",
       "95  (Renewed)  OnePlus Nord 2 5G (Blue Haze, 8GB RAM, 128GB S..."
      ]
     },
     "execution_count": 115,
     "metadata": {},
     "output_type": "execute_result"
    }
   ],
   "source": [
    "product[product[0]==\"(Renewed)\"]"
   ]
  },
  {
   "cell_type": "code",
   "execution_count": 116,
   "metadata": {
    "ExecuteTime": {
     "end_time": "2021-11-09T10:17:21.777755Z",
     "start_time": "2021-11-09T10:17:21.707896Z"
    }
   },
   "outputs": [
    {
     "data": {
      "text/html": [
       "<div>\n",
       "<style scoped>\n",
       "    .dataframe tbody tr th:only-of-type {\n",
       "        vertical-align: middle;\n",
       "    }\n",
       "\n",
       "    .dataframe tbody tr th {\n",
       "        vertical-align: top;\n",
       "    }\n",
       "\n",
       "    .dataframe thead th {\n",
       "        text-align: right;\n",
       "    }\n",
       "</style>\n",
       "<table border=\"1\" class=\"dataframe\">\n",
       "  <thead>\n",
       "    <tr style=\"text-align: right;\">\n",
       "      <th></th>\n",
       "      <th>product_title</th>\n",
       "      <th>price</th>\n",
       "      <th>rear_lens1</th>\n",
       "      <th>rear_lens2</th>\n",
       "      <th>screen_size</th>\n",
       "      <th>screen_type</th>\n",
       "      <th>battery_power</th>\n",
       "      <th>ram</th>\n",
       "      <th>inbuilt_storage</th>\n",
       "      <th>expandable_storage</th>\n",
       "      <th>processor_brand</th>\n",
       "      <th>os</th>\n",
       "      <th>warranty</th>\n",
       "      <th>product_brand</th>\n",
       "    </tr>\n",
       "  </thead>\n",
       "  <tbody>\n",
       "    <tr>\n",
       "      <th>0</th>\n",
       "      <td>Samsung Galaxy M12 (Blue,6GB RAM, 128GB Storag...</td>\n",
       "      <td>₹11,499.00</td>\n",
       "      <td>48 megapixels</td>\n",
       "      <td>Quad Rear Camera (48 MP + 5 MP + 2 MP + 2 MP) ...</td>\n",
       "      <td>6.5 inches</td>\n",
       "      <td>LCD</td>\n",
       "      <td>6000</td>\n",
       "      <td>6 GB</td>\n",
       "      <td>128</td>\n",
       "      <td>128 GB</td>\n",
       "      <td>Exynos 850</td>\n",
       "      <td>Android 11</td>\n",
       "      <td>1 year manufacturer warranty for device and 6 ...</td>\n",
       "      <td>Samsung</td>\n",
       "    </tr>\n",
       "    <tr>\n",
       "      <th>1</th>\n",
       "      <td>Samsung Galaxy M21 2021 Edition (Arctic Blue, ...</td>\n",
       "      <td>₹13,999.00</td>\n",
       "      <td>48</td>\n",
       "      <td>Triple Rear Camera (48 MP + 8 MP + 5 MP) | 20 ...</td>\n",
       "      <td>6.4 inches</td>\n",
       "      <td>AMOLED</td>\n",
       "      <td>6000</td>\n",
       "      <td>6 GB</td>\n",
       "      <td>128</td>\n",
       "      <td>128 GB</td>\n",
       "      <td>Exynos 9611</td>\n",
       "      <td>Android 11.0;OneUI Core3.1</td>\n",
       "      <td>1 year manufacturer warranty for device and 6 ...</td>\n",
       "      <td>Samsung</td>\n",
       "    </tr>\n",
       "    <tr>\n",
       "      <th>2</th>\n",
       "      <td>Redmi 9 (Sky Blue, 4GB RAM, 64GB Storage) | 2....</td>\n",
       "      <td>₹8,499.00</td>\n",
       "      <td>13 megapixels</td>\n",
       "      <td>Dual Rear Camera (13 MP + 2 MP) | 5 MP Front C...</td>\n",
       "      <td>6.53 inches</td>\n",
       "      <td>HD+</td>\n",
       "      <td>5000</td>\n",
       "      <td>4 GB</td>\n",
       "      <td>64</td>\n",
       "      <td>64 GB</td>\n",
       "      <td>Mediatek Helio G35</td>\n",
       "      <td>Android</td>\n",
       "      <td>1 year manufacturer warranty for device and 6 ...</td>\n",
       "      <td>Redmi</td>\n",
       "    </tr>\n",
       "    <tr>\n",
       "      <th>3</th>\n",
       "      <td>Redmi Note 10 Lite (Aurora Blue, 4GB RAM, 64GB...</td>\n",
       "      <td>₹12,999.00</td>\n",
       "      <td>48 megapixels</td>\n",
       "      <td>Quad Rear Camera (48MP + 2MP + 2MP+ + 2MP) | 1...</td>\n",
       "      <td>6.67 inches</td>\n",
       "      <td>LCD</td>\n",
       "      <td>5020</td>\n",
       "      <td>4 GB</td>\n",
       "      <td>64</td>\n",
       "      <td>64 GB</td>\n",
       "      <td>Qualcomm</td>\n",
       "      <td>MIUI 12</td>\n",
       "      <td>1 year manufacturer warranty for device and 6 ...</td>\n",
       "      <td>Redmi</td>\n",
       "    </tr>\n",
       "    <tr>\n",
       "      <th>4</th>\n",
       "      <td>Samsung Galaxy M12 (Blue,6GB RAM, 128GB Storag...</td>\n",
       "      <td>₹11,499.00</td>\n",
       "      <td>48 megapixels</td>\n",
       "      <td>Quad Rear Camera (48 MP + 5 MP + 2 MP + 2 MP) ...</td>\n",
       "      <td>6.5 inches</td>\n",
       "      <td>LCD</td>\n",
       "      <td>6000</td>\n",
       "      <td>6 GB</td>\n",
       "      <td>128</td>\n",
       "      <td>128 GB</td>\n",
       "      <td>Exynos 850</td>\n",
       "      <td>Android 11</td>\n",
       "      <td>1 year manufacturer warranty for device and 6 ...</td>\n",
       "      <td>Samsung</td>\n",
       "    </tr>\n",
       "    <tr>\n",
       "      <th>...</th>\n",
       "      <td>...</td>\n",
       "      <td>...</td>\n",
       "      <td>...</td>\n",
       "      <td>...</td>\n",
       "      <td>...</td>\n",
       "      <td>...</td>\n",
       "      <td>...</td>\n",
       "      <td>...</td>\n",
       "      <td>...</td>\n",
       "      <td>...</td>\n",
       "      <td>...</td>\n",
       "      <td>...</td>\n",
       "      <td>...</td>\n",
       "      <td>...</td>\n",
       "    </tr>\n",
       "    <tr>\n",
       "      <th>93</th>\n",
       "      <td>Tecno Spark 8 (Turquoise Cyan, 2 GB RAM, 64 GB...</td>\n",
       "      <td>₹7,999.00</td>\n",
       "      <td>16 megapixels</td>\n",
       "      <td>Rear; 16MP+AI Lens (AI Portrait, AI Beauty, HD...</td>\n",
       "      <td>6.52 inches</td>\n",
       "      <td>Incell</td>\n",
       "      <td>5000</td>\n",
       "      <td>2 GB</td>\n",
       "      <td>256</td>\n",
       "      <td>64 GB</td>\n",
       "      <td>MediaTek Octa core Helio A25</td>\n",
       "      <td>HiOS 7.6 based on Android 11-Go Edition</td>\n",
       "      <td>12 month warranty</td>\n",
       "      <td>Tecno</td>\n",
       "    </tr>\n",
       "    <tr>\n",
       "      <th>94</th>\n",
       "      <td>OnePlus 9R 5G (Lake Blue, 8GB RAM, 128GB Storage)</td>\n",
       "      <td>₹36,999.00</td>\n",
       "      <td>48 megapixels</td>\n",
       "      <td>Quad Rear Camera (48 MP + 16 MP + 5 MP + 2 MP)...</td>\n",
       "      <td>6.55 inches</td>\n",
       "      <td>AMOLED</td>\n",
       "      <td>4500</td>\n",
       "      <td>8 GB</td>\n",
       "      <td>128</td>\n",
       "      <td>128 GB</td>\n",
       "      <td>Qualcomm Snapdragon 870</td>\n",
       "      <td>Oxygen OS based on Andriod 11</td>\n",
       "      <td>1 year manufacturer warranty for device and 6 ...</td>\n",
       "      <td>OnePlus</td>\n",
       "    </tr>\n",
       "    <tr>\n",
       "      <th>95</th>\n",
       "      <td>(Renewed) OnePlus Nord 2 5G (Blue Haze, 8GB RA...</td>\n",
       "      <td>₹26,999.00</td>\n",
       "      <td>50 megapixels</td>\n",
       "      <td>50MP+8MP+2MP</td>\n",
       "      <td>6.43 inches</td>\n",
       "      <td>AMOLED</td>\n",
       "      <td>4500 Milliamp Hours</td>\n",
       "      <td>8 GB</td>\n",
       "      <td>128 GB</td>\n",
       "      <td>128 GB</td>\n",
       "      <td>Android 11.0</td>\n",
       "      <td>6 Months Seller Warranty</td>\n",
       "      <td>NaN</td>\n",
       "      <td>(Renewed)</td>\n",
       "    </tr>\n",
       "    <tr>\n",
       "      <th>96</th>\n",
       "      <td>Vivo Y12G (Phantom Black 3GB RAM, 64GB Stoarge...</td>\n",
       "      <td>₹11,990.00</td>\n",
       "      <td>13 megapixels</td>\n",
       "      <td>Rear</td>\n",
       "      <td>16.55 cm</td>\n",
       "      <td>LCD</td>\n",
       "      <td>5000</td>\n",
       "      <td>3 GB</td>\n",
       "      <td>64</td>\n",
       "      <td>256 GB</td>\n",
       "      <td>Qualcomm</td>\n",
       "      <td>Funtouch OS 11 (Based on Android 11)</td>\n",
       "      <td>1 year warranty provided by the manufacturer f...</td>\n",
       "      <td>Vivo</td>\n",
       "    </tr>\n",
       "    <tr>\n",
       "      <th>97</th>\n",
       "      <td>Vivo V21e 5G (Dark Pearl, 8GB RAM, 128GB Stora...</td>\n",
       "      <td>₹24,990.00</td>\n",
       "      <td>64 megapixels</td>\n",
       "      <td>Dual Rear Camera (64 MP + 8 MP) | 32 MP Front ...</td>\n",
       "      <td>6.44 inches</td>\n",
       "      <td>AMOLED</td>\n",
       "      <td>4000</td>\n",
       "      <td>8 GB</td>\n",
       "      <td>128</td>\n",
       "      <td>128 GB</td>\n",
       "      <td>Mediatek Dimensity 700</td>\n",
       "      <td>Funtouch OS 11.1 (Based on Android 11), Androi...</td>\n",
       "      <td>1 year warranty provided by the manufacturer f...</td>\n",
       "      <td>Vivo</td>\n",
       "    </tr>\n",
       "  </tbody>\n",
       "</table>\n",
       "<p>98 rows × 14 columns</p>\n",
       "</div>"
      ],
      "text/plain": [
       "                                        product_title       price  \\\n",
       "0   Samsung Galaxy M12 (Blue,6GB RAM, 128GB Storag...  ₹11,499.00   \n",
       "1   Samsung Galaxy M21 2021 Edition (Arctic Blue, ...  ₹13,999.00   \n",
       "2   Redmi 9 (Sky Blue, 4GB RAM, 64GB Storage) | 2....   ₹8,499.00   \n",
       "3   Redmi Note 10 Lite (Aurora Blue, 4GB RAM, 64GB...  ₹12,999.00   \n",
       "4   Samsung Galaxy M12 (Blue,6GB RAM, 128GB Storag...  ₹11,499.00   \n",
       "..                                                ...         ...   \n",
       "93  Tecno Spark 8 (Turquoise Cyan, 2 GB RAM, 64 GB...   ₹7,999.00   \n",
       "94  OnePlus 9R 5G (Lake Blue, 8GB RAM, 128GB Storage)  ₹36,999.00   \n",
       "95  (Renewed) OnePlus Nord 2 5G (Blue Haze, 8GB RA...  ₹26,999.00   \n",
       "96  Vivo Y12G (Phantom Black 3GB RAM, 64GB Stoarge...  ₹11,990.00   \n",
       "97  Vivo V21e 5G (Dark Pearl, 8GB RAM, 128GB Stora...  ₹24,990.00   \n",
       "\n",
       "       rear_lens1                                         rear_lens2  \\\n",
       "0   48 megapixels  Quad Rear Camera (48 MP + 5 MP + 2 MP + 2 MP) ...   \n",
       "1              48  Triple Rear Camera (48 MP + 8 MP + 5 MP) | 20 ...   \n",
       "2   13 megapixels  Dual Rear Camera (13 MP + 2 MP) | 5 MP Front C...   \n",
       "3   48 megapixels  Quad Rear Camera (48MP + 2MP + 2MP+ + 2MP) | 1...   \n",
       "4   48 megapixels  Quad Rear Camera (48 MP + 5 MP + 2 MP + 2 MP) ...   \n",
       "..            ...                                                ...   \n",
       "93  16 megapixels  Rear; 16MP+AI Lens (AI Portrait, AI Beauty, HD...   \n",
       "94  48 megapixels  Quad Rear Camera (48 MP + 16 MP + 5 MP + 2 MP)...   \n",
       "95  50 megapixels                                       50MP+8MP+2MP   \n",
       "96  13 megapixels                                               Rear   \n",
       "97  64 megapixels  Dual Rear Camera (64 MP + 8 MP) | 32 MP Front ...   \n",
       "\n",
       "    screen_size screen_type        battery_power   ram inbuilt_storage  \\\n",
       "0    6.5 inches         LCD                 6000  6 GB             128   \n",
       "1    6.4 inches      AMOLED                 6000  6 GB             128   \n",
       "2   6.53 inches         HD+                 5000  4 GB              64   \n",
       "3   6.67 inches         LCD                 5020  4 GB              64   \n",
       "4    6.5 inches         LCD                 6000  6 GB             128   \n",
       "..          ...         ...                  ...   ...             ...   \n",
       "93  6.52 inches      Incell                 5000  2 GB             256   \n",
       "94  6.55 inches      AMOLED                 4500  8 GB             128   \n",
       "95  6.43 inches      AMOLED  4500 Milliamp Hours  8 GB          128 GB   \n",
       "96     16.55 cm         LCD                 5000  3 GB              64   \n",
       "97  6.44 inches      AMOLED                 4000  8 GB             128   \n",
       "\n",
       "   expandable_storage               processor_brand  \\\n",
       "0              128 GB                    Exynos 850   \n",
       "1              128 GB                   Exynos 9611   \n",
       "2               64 GB            Mediatek Helio G35   \n",
       "3               64 GB                      Qualcomm   \n",
       "4              128 GB                    Exynos 850   \n",
       "..                ...                           ...   \n",
       "93              64 GB  MediaTek Octa core Helio A25   \n",
       "94             128 GB       Qualcomm Snapdragon 870   \n",
       "95             128 GB                  Android 11.0   \n",
       "96             256 GB                      Qualcomm   \n",
       "97             128 GB        Mediatek Dimensity 700   \n",
       "\n",
       "                                                   os  \\\n",
       "0                                          Android 11   \n",
       "1                          Android 11.0;OneUI Core3.1   \n",
       "2                                             Android   \n",
       "3                                             MIUI 12   \n",
       "4                                          Android 11   \n",
       "..                                                ...   \n",
       "93            HiOS 7.6 based on Android 11-Go Edition   \n",
       "94                      Oxygen OS based on Andriod 11   \n",
       "95                           6 Months Seller Warranty   \n",
       "96               Funtouch OS 11 (Based on Android 11)   \n",
       "97  Funtouch OS 11.1 (Based on Android 11), Androi...   \n",
       "\n",
       "                                             warranty product_brand  \n",
       "0   1 year manufacturer warranty for device and 6 ...       Samsung  \n",
       "1   1 year manufacturer warranty for device and 6 ...       Samsung  \n",
       "2   1 year manufacturer warranty for device and 6 ...         Redmi  \n",
       "3   1 year manufacturer warranty for device and 6 ...         Redmi  \n",
       "4   1 year manufacturer warranty for device and 6 ...       Samsung  \n",
       "..                                                ...           ...  \n",
       "93                                  12 month warranty         Tecno  \n",
       "94  1 year manufacturer warranty for device and 6 ...       OnePlus  \n",
       "95                                                NaN     (Renewed)  \n",
       "96  1 year warranty provided by the manufacturer f...          Vivo  \n",
       "97  1 year warranty provided by the manufacturer f...          Vivo  \n",
       "\n",
       "[98 rows x 14 columns]"
      ]
     },
     "execution_count": 116,
     "metadata": {},
     "output_type": "execute_result"
    }
   ],
   "source": [
    "new_df[\"product_brand\"] = product[0]\n",
    "new_df"
   ]
  },
  {
   "cell_type": "code",
   "execution_count": 117,
   "metadata": {
    "ExecuteTime": {
     "end_time": "2021-11-09T10:17:21.809623Z",
     "start_time": "2021-11-09T10:17:21.782695Z"
    }
   },
   "outputs": [
    {
     "data": {
      "text/plain": [
       "72       Moto\n",
       "95    OnePlus\n",
       "Name: product_brand, dtype: object"
      ]
     },
     "execution_count": 117,
     "metadata": {},
     "output_type": "execute_result"
    }
   ],
   "source": [
    "new_df.product_brand[product[product[0]==\"(Renewed)\"].index]=[\"Moto\",\"OnePlus\"]\n",
    "new_df.product_brand[product[product[0]==\"(Renewed)\"].index]"
   ]
  },
  {
   "cell_type": "code",
   "execution_count": 118,
   "metadata": {
    "ExecuteTime": {
     "end_time": "2021-11-09T10:17:21.839548Z",
     "start_time": "2021-11-09T10:17:21.814610Z"
    }
   },
   "outputs": [
    {
     "data": {
      "text/html": [
       "<div>\n",
       "<style scoped>\n",
       "    .dataframe tbody tr th:only-of-type {\n",
       "        vertical-align: middle;\n",
       "    }\n",
       "\n",
       "    .dataframe tbody tr th {\n",
       "        vertical-align: top;\n",
       "    }\n",
       "\n",
       "    .dataframe thead th {\n",
       "        text-align: right;\n",
       "    }\n",
       "</style>\n",
       "<table border=\"1\" class=\"dataframe\">\n",
       "  <thead>\n",
       "    <tr style=\"text-align: right;\">\n",
       "      <th></th>\n",
       "      <th>0</th>\n",
       "      <th>1</th>\n",
       "    </tr>\n",
       "  </thead>\n",
       "  <tbody>\n",
       "    <tr>\n",
       "      <th>8</th>\n",
       "      <td>I</td>\n",
       "      <td>KALL Z1 Smartphone (4GB, 32GB, 4G Volte, Dual ...</td>\n",
       "    </tr>\n",
       "    <tr>\n",
       "      <th>15</th>\n",
       "      <td>I</td>\n",
       "      <td>KALL K5 Smartphon (Blue, 5.5 Inch, 2GB, 16GB)</td>\n",
       "    </tr>\n",
       "    <tr>\n",
       "      <th>20</th>\n",
       "      <td>I</td>\n",
       "      <td>KALL Z1 Smartphone (4GB, 32GB, 4G Volte, Dual ...</td>\n",
       "    </tr>\n",
       "    <tr>\n",
       "      <th>28</th>\n",
       "      <td>I</td>\n",
       "      <td>KALL Z5 (3GB, 16GB) (Green)</td>\n",
       "    </tr>\n",
       "    <tr>\n",
       "      <th>48</th>\n",
       "      <td>I</td>\n",
       "      <td>KALL Z3 Smartphone (Purple, 4GB, 32GB, Android...</td>\n",
       "    </tr>\n",
       "    <tr>\n",
       "      <th>83</th>\n",
       "      <td>I</td>\n",
       "      <td>KALL K800 4G Smartphone (Blue, 2GB, 16GB)</td>\n",
       "    </tr>\n",
       "  </tbody>\n",
       "</table>\n",
       "</div>"
      ],
      "text/plain": [
       "    0                                                  1\n",
       "8   I  KALL Z1 Smartphone (4GB, 32GB, 4G Volte, Dual ...\n",
       "15  I      KALL K5 Smartphon (Blue, 5.5 Inch, 2GB, 16GB)\n",
       "20  I  KALL Z1 Smartphone (4GB, 32GB, 4G Volte, Dual ...\n",
       "28  I                        KALL Z5 (3GB, 16GB) (Green)\n",
       "48  I  KALL Z3 Smartphone (Purple, 4GB, 32GB, Android...\n",
       "83  I          KALL K800 4G Smartphone (Blue, 2GB, 16GB)"
      ]
     },
     "execution_count": 118,
     "metadata": {},
     "output_type": "execute_result"
    }
   ],
   "source": [
    "product[product[0]==\"I\"]"
   ]
  },
  {
   "cell_type": "code",
   "execution_count": 119,
   "metadata": {
    "ExecuteTime": {
     "end_time": "2021-11-09T10:17:21.870496Z",
     "start_time": "2021-11-09T10:17:21.844533Z"
    }
   },
   "outputs": [
    {
     "data": {
      "text/plain": [
       "8     IKALL\n",
       "15    IKALL\n",
       "20    IKALL\n",
       "28    IKALL\n",
       "48    IKALL\n",
       "83    IKALL\n",
       "Name: product_brand, dtype: object"
      ]
     },
     "execution_count": 119,
     "metadata": {},
     "output_type": "execute_result"
    }
   ],
   "source": [
    "new_df.product_brand[product[product[0]==\"I\"].index]=\"IKALL\"\n",
    "new_df.product_brand[product[product[0]==\"I\"].index]"
   ]
  },
  {
   "cell_type": "code",
   "execution_count": 120,
   "metadata": {
    "ExecuteTime": {
     "end_time": "2021-11-09T10:17:21.901590Z",
     "start_time": "2021-11-09T10:17:21.875447Z"
    }
   },
   "outputs": [
    {
     "data": {
      "text/plain": [
       "array(['Samsung', 'Redmi', 'OPPO', 'IKALL', 'JIO', 'Tecno', 'OnePlus',\n",
       "       'realme', 'Micromax', 'Vivo', 'Nokia', 'Lava', 'iQOO', 'itel',\n",
       "       'Oppo', 'TECNO', 'Realme', 'Xiaomi', 'Moto', 'KECHAODA', 'Mi'],\n",
       "      dtype=object)"
      ]
     },
     "execution_count": 120,
     "metadata": {},
     "output_type": "execute_result"
    }
   ],
   "source": [
    "new_df.product_brand.unique()"
   ]
  },
  {
   "cell_type": "code",
   "execution_count": 121,
   "metadata": {
    "ExecuteTime": {
     "end_time": "2021-11-09T10:17:21.947362Z",
     "start_time": "2021-11-09T10:17:21.906576Z"
    }
   },
   "outputs": [
    {
     "data": {
      "text/html": [
       "<div>\n",
       "<style scoped>\n",
       "    .dataframe tbody tr th:only-of-type {\n",
       "        vertical-align: middle;\n",
       "    }\n",
       "\n",
       "    .dataframe tbody tr th {\n",
       "        vertical-align: top;\n",
       "    }\n",
       "\n",
       "    .dataframe thead th {\n",
       "        text-align: right;\n",
       "    }\n",
       "</style>\n",
       "<table border=\"1\" class=\"dataframe\">\n",
       "  <thead>\n",
       "    <tr style=\"text-align: right;\">\n",
       "      <th></th>\n",
       "      <th>0</th>\n",
       "      <th>1</th>\n",
       "    </tr>\n",
       "  </thead>\n",
       "  <tbody>\n",
       "    <tr>\n",
       "      <th>0</th>\n",
       "      <td>Galaxy M12</td>\n",
       "      <td>Blue,6GB RAM, 128GB Storage) 6 Months Free Scr...</td>\n",
       "    </tr>\n",
       "    <tr>\n",
       "      <th>1</th>\n",
       "      <td>Galaxy M21 2021 Edition</td>\n",
       "      <td>Arctic Blue, 6GB RAM, 128GB Storage) | FHD+ sA...</td>\n",
       "    </tr>\n",
       "    <tr>\n",
       "      <th>2</th>\n",
       "      <td>9</td>\n",
       "      <td>Sky Blue, 4GB RAM, 64GB Storage) | 2.3GHz Medi...</td>\n",
       "    </tr>\n",
       "    <tr>\n",
       "      <th>3</th>\n",
       "      <td>Note 10 Lite</td>\n",
       "      <td>Aurora Blue, 4GB RAM, 64GB Storage) | Alexa Bu...</td>\n",
       "    </tr>\n",
       "    <tr>\n",
       "      <th>4</th>\n",
       "      <td>Galaxy M12</td>\n",
       "      <td>Blue,6GB RAM, 128GB Storage) 6 Months Free Scr...</td>\n",
       "    </tr>\n",
       "    <tr>\n",
       "      <th>...</th>\n",
       "      <td>...</td>\n",
       "      <td>...</td>\n",
       "    </tr>\n",
       "    <tr>\n",
       "      <th>93</th>\n",
       "      <td>Spark 8</td>\n",
       "      <td>Turquoise Cyan, 2 GB RAM, 64 GB Storage) | 16M...</td>\n",
       "    </tr>\n",
       "    <tr>\n",
       "      <th>94</th>\n",
       "      <td>9R 5G</td>\n",
       "      <td>Lake Blue, 8GB RAM, 128GB Storage)</td>\n",
       "    </tr>\n",
       "    <tr>\n",
       "      <th>95</th>\n",
       "      <td>OnePlus Nord 2 5G</td>\n",
       "      <td>Blue Haze, 8GB RAM, 128GB Storage)</td>\n",
       "    </tr>\n",
       "    <tr>\n",
       "      <th>96</th>\n",
       "      <td>Y12G</td>\n",
       "      <td>Phantom Black 3GB RAM, 64GB Stoarge) with No C...</td>\n",
       "    </tr>\n",
       "    <tr>\n",
       "      <th>97</th>\n",
       "      <td>V21e 5G</td>\n",
       "      <td>Dark Pearl, 8GB RAM, 128GB Storage) with No Co...</td>\n",
       "    </tr>\n",
       "  </tbody>\n",
       "</table>\n",
       "<p>98 rows × 2 columns</p>\n",
       "</div>"
      ],
      "text/plain": [
       "                           0  \\\n",
       "0                Galaxy M12    \n",
       "1   Galaxy M21 2021 Edition    \n",
       "2                         9    \n",
       "3              Note 10 Lite    \n",
       "4                Galaxy M12    \n",
       "..                       ...   \n",
       "93                  Spark 8    \n",
       "94                    9R 5G    \n",
       "95        OnePlus Nord 2 5G    \n",
       "96                     Y12G    \n",
       "97                  V21e 5G    \n",
       "\n",
       "                                                    1  \n",
       "0   Blue,6GB RAM, 128GB Storage) 6 Months Free Scr...  \n",
       "1   Arctic Blue, 6GB RAM, 128GB Storage) | FHD+ sA...  \n",
       "2   Sky Blue, 4GB RAM, 64GB Storage) | 2.3GHz Medi...  \n",
       "3   Aurora Blue, 4GB RAM, 64GB Storage) | Alexa Bu...  \n",
       "4   Blue,6GB RAM, 128GB Storage) 6 Months Free Scr...  \n",
       "..                                                ...  \n",
       "93  Turquoise Cyan, 2 GB RAM, 64 GB Storage) | 16M...  \n",
       "94                 Lake Blue, 8GB RAM, 128GB Storage)  \n",
       "95                 Blue Haze, 8GB RAM, 128GB Storage)  \n",
       "96  Phantom Black 3GB RAM, 64GB Stoarge) with No C...  \n",
       "97  Dark Pearl, 8GB RAM, 128GB Storage) with No Co...  \n",
       "\n",
       "[98 rows x 2 columns]"
      ]
     },
     "execution_count": 121,
     "metadata": {},
     "output_type": "execute_result"
    }
   ],
   "source": [
    "product1 = product[1].str.split(\"(\", n=1, expand = True)\n",
    "product1"
   ]
  },
  {
   "cell_type": "code",
   "execution_count": 122,
   "metadata": {
    "ExecuteTime": {
     "end_time": "2021-11-09T10:17:21.979382Z",
     "start_time": "2021-11-09T10:17:21.952452Z"
    }
   },
   "outputs": [
    {
     "data": {
      "text/plain": [
       "array(['Galaxy M12 ', 'Galaxy M21 2021 Edition ', '9 ', 'Note 10 Lite ',\n",
       "       'A31 ', 'Galaxy M32 ', 'KALL Z1 Smartphone ', '9A',\n",
       "       'Galaxy M32 5G ', 'KALL K5 Smartphon ', 'Galaxy S20 FE 5G ',\n",
       "       'Phone 2 Black', 'Spark 7T', 'Nord 2 5G ', 'narzo 50A ',\n",
       "       'KALL Z5 ', '9 Activ ', 'X755 ', 'Note 10 Pro ', 'Y72 5G ',\n",
       "       'G20 Smartphone, Dual SIM 4G, 4GB RAM/64GB Storage, 48MP Quad Camera with 6.5” ',\n",
       "       'Note 10S ', 'narzo 50i ',\n",
       "       'C20 Plus Ocean Blue, 6.5\" HD+ Screen, 32GB Storage, 3GB RAM',\n",
       "       'Y33s ', 'Spark 8 ',\n",
       "       'Z6 Aqua Blue, 6GB RAM, 64GB Storage, Regular', 'Nord CE 5G ',\n",
       "       'C11 2021 ', 'Z5 5G ', 'Y3s ', 'Spark Go 2021 ',\n",
       "       'KALL Z3 Smartphone ', 'A26 ', 'A23 Pro Jio ', 'Y12s ', 'Z4 ',\n",
       "       'narzo 30 ', 'Spark 7 ', 'Galaxy M52 5G ', 'A54 6GB 128 GB ', '8 ',\n",
       "       'A25 Gradation Purple', 'Y21 ',\n",
       "       'Note 10 Lite Aurora Blue 6GB RAM 128GB ROM | Alexa Built-in',\n",
       "       '11 Lite NE 5G ', '3.4 Fjord, 4GB RAM, 64GB Storage', 'Y53s ',\n",
       "       'Galaxy A03s ', 'Moto G5S Plus ', 'K380 Blue, 4GB, 32GB', '8i ',\n",
       "       'Galaxy A22 5G ', 'K108 Dual Sim, Green', 'Mi A3 ', 'Vision2 ',\n",
       "       '5.4 ', 'KALL K800 4G Smartphone ', 'Galaxy A12 ', 'Y3 ', 'A16 ',\n",
       "       '11X 5G Cosmic Black 6GB RAM 128GB ROM | SD 870 | DisplayMate A+ rated E4 AMOLED | Upto 18 Months No Cost EMI',\n",
       "       'F19 Pro ', 'V21e 5G ', '9R 5G ', 'OnePlus Nord 2 5G ', 'Y12G '],\n",
       "      dtype=object)"
      ]
     },
     "execution_count": 122,
     "metadata": {},
     "output_type": "execute_result"
    }
   ],
   "source": [
    "product1[0].unique()"
   ]
  },
  {
   "cell_type": "code",
   "execution_count": 123,
   "metadata": {
    "ExecuteTime": {
     "end_time": "2021-11-09T10:17:22.010564Z",
     "start_time": "2021-11-09T10:17:21.985460Z"
    }
   },
   "outputs": [
    {
     "data": {
      "text/plain": [
       "array(['11,499.00', '13,999.00', '8,499.00', '12,999.00', '11,490.00',\n",
       "       '9,499.00', '14,999.00', '5,399.00', '7,999.00', '16,999.00',\n",
       "       '4,199.00', '36,990.00', '2,064.00', '29,999.00', '4,985.00',\n",
       "       '12,499.00', '1,395.00', '18,999.00', '20,990.00', '13,490.00',\n",
       "       '15,499.00', '7,499.00', '9,199.00', '18,990.00', '9,699.00',\n",
       "       '24,999.00', '8,974.00', '23,990.00', '9,490.00', '7,299.00',\n",
       "       '5,889.00', '5,999.00', '4,056.00', '10,990.00', '8,799.00',\n",
       "       '7,699.00', '27,999.00', '15,949.00', '10,599.00', '26,990.00',\n",
       "       '17,900.00', '25,999.00', '4,499.00', '15,490.00', '15,999.00',\n",
       "       '28,999.00', '10,999.00', '19,490.00', '11,999.00', '6,999.00',\n",
       "       '6,799.00', '13,877.00', '21,999.00', '1,810.00', '15,990.00',\n",
       "       '7,399.00', '14,499.00', '4,799.00', '12,998.00', '10,998.00',\n",
       "       '34,999.00', '21,990.00', '24,990.00', '36,999.00', '26,999.00',\n",
       "       '11,990.00'], dtype=object)"
      ]
     },
     "execution_count": 123,
     "metadata": {},
     "output_type": "execute_result"
    }
   ],
   "source": [
    "new_df.price = new_df.price.str[1:]\n",
    "new_df.price.unique()"
   ]
  },
  {
   "cell_type": "code",
   "execution_count": 124,
   "metadata": {
    "ExecuteTime": {
     "end_time": "2021-11-09T10:17:22.040576Z",
     "start_time": "2021-11-09T10:17:22.015584Z"
    }
   },
   "outputs": [
    {
     "data": {
      "text/plain": [
       "array(['11499', '13999', '8499', '12999', '11490', '9499', '14999',\n",
       "       '5399', '7999', '16999', '4199', '36990', '2064', '29999', '4985',\n",
       "       '12499', '1395', '18999', '20990', '13490', '15499', '7499',\n",
       "       '9199', '18990', '9699', '24999', '8974', '23990', '9490', '7299',\n",
       "       '5889', '5999', '4056', '10990', '8799', '7699', '27999', '15949',\n",
       "       '10599', '26990', '17900', '25999', '4499', '15490', '15999',\n",
       "       '28999', '10999', '19490', '11999', '6999', '6799', '13877',\n",
       "       '21999', '1810', '15990', '7399', '14499', '4799', '12998',\n",
       "       '10998', '34999', '21990', '24990', '36999', '26999', '11990'],\n",
       "      dtype=object)"
      ]
     },
     "execution_count": 124,
     "metadata": {},
     "output_type": "execute_result"
    }
   ],
   "source": [
    "(new_df.price.str[:-7]+new_df.price.str[-6:-3]).unique()"
   ]
  },
  {
   "cell_type": "code",
   "execution_count": 125,
   "metadata": {
    "ExecuteTime": {
     "end_time": "2021-11-09T10:17:22.071397Z",
     "start_time": "2021-11-09T10:17:22.045471Z"
    }
   },
   "outputs": [
    {
     "data": {
      "text/plain": [
       "array([11499, 13999,  8499, 12999, 11490,  9499, 14999,  5399,  7999,\n",
       "       16999,  4199, 36990,  2064, 29999,  4985, 12499,  1395, 18999,\n",
       "       20990, 13490, 15499,  7499,  9199, 18990,  9699, 24999,  8974,\n",
       "       23990,  9490,  7299,  5889,  5999,  4056, 10990,  8799,  7699,\n",
       "       27999, 15949, 10599, 26990, 17900, 25999,  4499, 15490, 15999,\n",
       "       28999, 10999, 19490, 11999,  6999,  6799, 13877, 21999,  1810,\n",
       "       15990,  7399, 14499,  4799, 12998, 10998, 34999, 21990, 24990,\n",
       "       36999, 26999, 11990])"
      ]
     },
     "execution_count": 125,
     "metadata": {},
     "output_type": "execute_result"
    }
   ],
   "source": [
    "new_df.price = (new_df.price.str[:-7]+new_df.price.str[-6:-3]).astype(\"int\")\n",
    "new_df.price.unique()"
   ]
  },
  {
   "cell_type": "code",
   "execution_count": 126,
   "metadata": {
    "ExecuteTime": {
     "end_time": "2021-11-09T10:17:22.102003Z",
     "start_time": "2021-11-09T10:17:22.076532Z"
    }
   },
   "outputs": [
    {
     "data": {
      "text/plain": [
       "array(['48 m', '48', '13 m', '12', '64', '8 me', '13', '5 me', '12 m',\n",
       "       '2.4 ', '50', '50 m', '32', '64 m', '16 m', '4', '2 me', '6.51',\n",
       "       '1080', '5', '0.3'], dtype=object)"
      ]
     },
     "execution_count": 126,
     "metadata": {},
     "output_type": "execute_result"
    }
   ],
   "source": [
    "new_df[\"rear_camera\"] = new_df.rear_lens1.str[:4]\n",
    "new_df.rear_camera.unique()"
   ]
  },
  {
   "cell_type": "code",
   "execution_count": 127,
   "metadata": {
    "ExecuteTime": {
     "end_time": "2021-11-09T10:17:22.149828Z",
     "start_time": "2021-11-09T10:17:22.106945Z"
    }
   },
   "outputs": [
    {
     "data": {
      "text/plain": [
       "array(['48', '13', '12', '64', '8', '5', '2.4', '50', '32', '16', '4',\n",
       "       '2', '6.51', '1080', '0.3'], dtype=object)"
      ]
     },
     "execution_count": 127,
     "metadata": {},
     "output_type": "execute_result"
    }
   ],
   "source": [
    "new_df.rear_camera[new_df.rear_camera.str.contains(\"m\")]=new_df.rear_camera[new_df.rear_camera.str.contains(\"m\")].str[:2]\n",
    "new_df.rear_camera[new_df.rear_camera.str.contains(\" \")]=new_df.rear_camera[new_df.rear_camera.str.contains(\" \")].str.rstrip()\n",
    "new_df.rear_camera.unique()"
   ]
  },
  {
   "cell_type": "code",
   "execution_count": 128,
   "metadata": {
    "ExecuteTime": {
     "end_time": "2021-11-09T10:17:22.180746Z",
     "start_time": "2021-11-09T10:17:22.155848Z"
    }
   },
   "outputs": [
    {
     "data": {
      "text/plain": [
       "array(['6.5 inches', '6.4 inches', '6.53 inches', '6.67 inches',\n",
       "       '5.5 inches', '2.4 inches', '6.52 inches', '6.43 inches', '6.1 cm',\n",
       "       '16.71 cm', '6.58 inches', '16.55 cm', '6 inches', '14.48 cm',\n",
       "       '12.7 cm', '6.51 inches', '6.7 inches', '5 inches', '6.55 inches',\n",
       "       '6.39 inches', '7.12 inches', '6.6 inches', '3.5 inches',\n",
       "       '6.088 inches', '16.76 cm', '6.26 inches', '6.44 inches'],\n",
       "      dtype=object)"
      ]
     },
     "execution_count": 128,
     "metadata": {},
     "output_type": "execute_result"
    }
   ],
   "source": [
    "new_df.screen_size.unique()"
   ]
  },
  {
   "cell_type": "code",
   "execution_count": 129,
   "metadata": {
    "ExecuteTime": {
     "end_time": "2021-11-09T10:17:22.212280Z",
     "start_time": "2021-11-09T10:17:22.195134Z"
    }
   },
   "outputs": [
    {
     "data": {
      "text/plain": [
       "32    6.1 c\n",
       "35    16.71\n",
       "46    16.55\n",
       "49    14.48\n",
       "50    12.7 \n",
       "70    16.71\n",
       "81    16.76\n",
       "96    16.55\n",
       "Name: screen_size, dtype: object"
      ]
     },
     "execution_count": 129,
     "metadata": {},
     "output_type": "execute_result"
    }
   ],
   "source": [
    "conversion = new_df.screen_size[new_df.screen_size.str.contains(\"cm\")].str[0:5]\n",
    "conversion"
   ]
  },
  {
   "cell_type": "code",
   "execution_count": 130,
   "metadata": {
    "ExecuteTime": {
     "end_time": "2021-11-09T10:17:22.228168Z",
     "start_time": "2021-11-09T10:17:22.221047Z"
    }
   },
   "outputs": [],
   "source": [
    "conversion[32] = \"6.1\""
   ]
  },
  {
   "cell_type": "code",
   "execution_count": 131,
   "metadata": {
    "ExecuteTime": {
     "end_time": "2021-11-09T10:17:22.243718Z",
     "start_time": "2021-11-09T10:17:22.233015Z"
    }
   },
   "outputs": [],
   "source": [
    "conversion = conversion.str.rstrip()\n",
    "conversion = conversion.astype(np.number)"
   ]
  },
  {
   "cell_type": "code",
   "execution_count": 132,
   "metadata": {
    "ExecuteTime": {
     "end_time": "2021-11-09T10:17:22.274219Z",
     "start_time": "2021-11-09T10:17:22.248973Z"
    }
   },
   "outputs": [
    {
     "data": {
      "text/plain": [
       "32    2.401570\n",
       "35    6.578727\n",
       "46    6.515735\n",
       "49    5.700776\n",
       "50    4.999990\n",
       "70    6.578727\n",
       "81    6.598412\n",
       "96    6.515735\n",
       "Name: screen_size, dtype: float64"
      ]
     },
     "execution_count": 132,
     "metadata": {},
     "output_type": "execute_result"
    }
   ],
   "source": [
    "conversion = conversion*0.3937\n",
    "conversion"
   ]
  },
  {
   "cell_type": "code",
   "execution_count": 133,
   "metadata": {
    "ExecuteTime": {
     "end_time": "2021-11-09T10:17:22.305133Z",
     "start_time": "2021-11-09T10:17:22.278896Z"
    }
   },
   "outputs": [],
   "source": [
    "new_df.screen_size[new_df.screen_size.str.contains(\"inches\")] = new_df.screen_size.str[:-7]"
   ]
  },
  {
   "cell_type": "code",
   "execution_count": 134,
   "metadata": {
    "ExecuteTime": {
     "end_time": "2021-11-09T10:17:22.336922Z",
     "start_time": "2021-11-09T10:17:22.310467Z"
    }
   },
   "outputs": [
    {
     "data": {
      "text/plain": [
       "array(['6.5', '6.4', '6.53', '6.67', '5.5', '2.4', '6.52', '6.43',\n",
       "       2.40157, 6.578727000000001, '6.58', 6.515735, '6', 5.700776,\n",
       "       4.9999899999999995, '6.51', '6.7', '5', '6.55', '6.39', '7.12',\n",
       "       '6.6', '3.5', '6.088', 6.598412000000001, '6.26', '6.44'],\n",
       "      dtype=object)"
      ]
     },
     "execution_count": 134,
     "metadata": {},
     "output_type": "execute_result"
    }
   ],
   "source": [
    "new_df.screen_size[conversion.index] = conversion.values\n",
    "new_df.screen_size.unique()"
   ]
  },
  {
   "cell_type": "code",
   "execution_count": 135,
   "metadata": {
    "ExecuteTime": {
     "end_time": "2021-11-09T10:17:22.367880Z",
     "start_time": "2021-11-09T10:17:22.341827Z"
    }
   },
   "outputs": [
    {
     "data": {
      "text/plain": [
       "array([6.5 , 6.4 , 6.53, 6.67, 5.5 , 2.4 , 6.52, 6.43, 6.58, 6.  , 5.7 ,\n",
       "       5.  , 6.51, 6.7 , 6.55, 6.39, 7.12, 6.6 , 3.5 , 6.09, 6.26, 6.44])"
      ]
     },
     "execution_count": 135,
     "metadata": {},
     "output_type": "execute_result"
    }
   ],
   "source": [
    "new_df.screen_size = new_df.screen_size.astype(np.number)\n",
    "new_df.screen_size = round(new_df.screen_size,2)\n",
    "new_df.screen_size.unique()"
   ]
  },
  {
   "cell_type": "code",
   "execution_count": 136,
   "metadata": {
    "ExecuteTime": {
     "end_time": "2021-11-09T10:17:22.398340Z",
     "start_time": "2021-11-09T10:17:22.372776Z"
    }
   },
   "outputs": [
    {
     "data": {
      "text/plain": [
       "array(['LCD', 'AMOLED', 'HD+', '720x1600, HD+', 'TFT', 'HD+IPS',\n",
       "       'TFT IPS', 'Incell', 'FHD+', 'Full HD+', '1920 x 1080',\n",
       "       'HD + infinity v-cut', '1080 x 1920', '128 x 160'], dtype=object)"
      ]
     },
     "execution_count": 136,
     "metadata": {},
     "output_type": "execute_result"
    }
   ],
   "source": [
    "new_df.screen_type.unique()"
   ]
  },
  {
   "cell_type": "code",
   "execution_count": 137,
   "metadata": {
    "ExecuteTime": {
     "end_time": "2021-11-09T10:17:22.461076Z",
     "start_time": "2021-11-09T10:17:22.403196Z"
    }
   },
   "outputs": [
    {
     "data": {
      "text/plain": [
       "array(['LCD', 'AMOLED', 'HD+', 'TFT', 'Incell', 'FHD+', 'FHD',\n",
       "       '128 x 160'], dtype=object)"
      ]
     },
     "execution_count": 137,
     "metadata": {},
     "output_type": "execute_result"
    }
   ],
   "source": [
    "new_df.screen_type[new_df.screen_type == \"720x1600, HD+\"] = \"HD+\"\n",
    "new_df.screen_type[new_df.screen_type == \"HD+IPS\"] = \"HD+\"\n",
    "new_df.screen_type[new_df.screen_type == \"TFT IPS\"] = \"TFT\"\n",
    "new_df.screen_type[new_df.screen_type == \"Full HD+\"] = \"FHD+\"\n",
    "new_df.screen_type[new_df.screen_type == \"1920 x 1080\"] = \"FHD\"\n",
    "new_df.screen_type[new_df.screen_type == \"HD + infinity v-cut\"] = \"HD+\"\n",
    "new_df.screen_type[new_df.screen_type == \"1080 x 1920\"] = \"FHD\"\n",
    "new_df.screen_type.unique()"
   ]
  },
  {
   "cell_type": "code",
   "execution_count": 138,
   "metadata": {
    "ExecuteTime": {
     "end_time": "2021-11-09T10:17:22.477118Z",
     "start_time": "2021-11-09T10:17:22.467020Z"
    }
   },
   "outputs": [
    {
     "data": {
      "text/plain": [
       "array(['6000', '5000', '5020', '4230', '3000 Milliamp Hours',\n",
       "       '2500 Milliamp Hours', '4500', '1500 Milliamp Hours', '0', '5050',\n",
       "       '4000 Milliamp Hours', '3020', '2400', '5000 Milliamp Hours',\n",
       "       '4250', '4000', '3000', '7500', '4030', '4520', '4310',\n",
       "       '4500 Milliamp Hours'], dtype=object)"
      ]
     },
     "execution_count": 138,
     "metadata": {},
     "output_type": "execute_result"
    }
   ],
   "source": [
    "new_df.battery_power.unique()"
   ]
  },
  {
   "cell_type": "code",
   "execution_count": 139,
   "metadata": {
    "ExecuteTime": {
     "end_time": "2021-11-09T10:17:22.522906Z",
     "start_time": "2021-11-09T10:17:22.480988Z"
    }
   },
   "outputs": [
    {
     "data": {
      "text/plain": [
       "array([6000., 5000., 5020., 4230., 3000., 2500., 4500., 1500., 1000.,\n",
       "       5050., 4000., 3020., 2400., 4250., 7500., 4030., 4520., 4310.])"
      ]
     },
     "execution_count": 139,
     "metadata": {},
     "output_type": "execute_result"
    }
   ],
   "source": [
    "new_df.battery_power = new_df.battery_power.str[0:4]\n",
    "new_df.battery_power = new_df.battery_power.astype(np.number)\n",
    "new_df.battery_power[new_df.battery_power == 0] = 1000\n",
    "new_df.battery_power.unique()"
   ]
  },
  {
   "cell_type": "code",
   "execution_count": 140,
   "metadata": {
    "ExecuteTime": {
     "end_time": "2021-11-09T10:17:22.553789Z",
     "start_time": "2021-11-09T10:17:22.528892Z"
    }
   },
   "outputs": [
    {
     "data": {
      "text/plain": [
       "array(['6 GB', '4 GB', '3 GB', '2 GB', '8 GB', '512 MB', '32 MB', '1 GB',\n",
       "       '128 GB', '12 GB'], dtype=object)"
      ]
     },
     "execution_count": 140,
     "metadata": {},
     "output_type": "execute_result"
    }
   ],
   "source": [
    "new_df.ram.unique()"
   ]
  },
  {
   "cell_type": "code",
   "execution_count": 141,
   "metadata": {
    "ExecuteTime": {
     "end_time": "2021-11-09T10:17:22.599676Z",
     "start_time": "2021-11-09T10:17:22.559774Z"
    }
   },
   "outputs": [
    {
     "data": {
      "text/plain": [
       "array([6.00e+00, 4.00e+00, 3.00e+00, 2.00e+00, 8.00e+00, 5.12e-01,\n",
       "       3.20e-02, 1.00e+00, 1.28e+02, 1.20e+01])"
      ]
     },
     "execution_count": 141,
     "metadata": {},
     "output_type": "execute_result"
    }
   ],
   "source": [
    "new_df.ram[new_df.ram == \"32 MB\"] = \"0.032 MB\"\n",
    "new_df.ram[new_df.ram == \"512 MB\"] = \"0.512 MB\"\n",
    "new_df.ram = new_df.ram.str[0:-2]\n",
    "new_df.ram = new_df.ram.astype(np.number)\n",
    "new_df.ram.unique()"
   ]
  },
  {
   "cell_type": "code",
   "execution_count": 142,
   "metadata": {
    "ExecuteTime": {
     "end_time": "2021-11-09T10:17:22.630553Z",
     "start_time": "2021-11-09T10:17:22.604778Z"
    }
   },
   "outputs": [
    {
     "data": {
      "text/plain": [
       "array(['128', '64', '32 GB', '32', '16 GB', '4 GB', '512', '1024', '256',\n",
       "       '0', '4', '1000', '1 TB', '16', '6', '128 GB'], dtype=object)"
      ]
     },
     "execution_count": 142,
     "metadata": {},
     "output_type": "execute_result"
    }
   ],
   "source": [
    "new_df.inbuilt_storage.unique()"
   ]
  },
  {
   "cell_type": "code",
   "execution_count": 143,
   "metadata": {
    "ExecuteTime": {
     "end_time": "2021-11-09T10:17:22.691590Z",
     "start_time": "2021-11-09T10:17:22.636572Z"
    }
   },
   "outputs": [
    {
     "data": {
      "text/plain": [
       "array([ 128.,   64.,   32.,   16.,    4.,  512., 1024.,  256.,    0.,\n",
       "          6.])"
      ]
     },
     "execution_count": 143,
     "metadata": {},
     "output_type": "execute_result"
    }
   ],
   "source": [
    "new_df.inbuilt_storage = new_df.inbuilt_storage.str[0:4]\n",
    "new_df.inbuilt_storage[new_df.inbuilt_storage.str.contains(\"GB\")] = new_df.inbuilt_storage[new_df.inbuilt_storage.str.contains(\"GB\")].str[0:2]\n",
    "new_df.inbuilt_storage[new_df.inbuilt_storage.str.contains(\"G\")] = new_df.inbuilt_storage[new_df.inbuilt_storage.str.contains(\"G\")].str[0:2]\n",
    "new_df.inbuilt_storage[new_df.inbuilt_storage == \"1 TB\"] = \"1024\"\n",
    "new_df.inbuilt_storage[new_df.inbuilt_storage == \"1000\"] = \"1024\"\n",
    "new_df.inbuilt_storage = new_df.inbuilt_storage.astype(np.number)\n",
    "new_df.inbuilt_storage.unique()"
   ]
  },
  {
   "cell_type": "code",
   "execution_count": 144,
   "metadata": {
    "ExecuteTime": {
     "end_time": "2021-11-09T10:17:22.721518Z",
     "start_time": "2021-11-09T10:17:22.696584Z"
    }
   },
   "outputs": [],
   "source": [
    "new_df.inbuilt_storage[new_df.inbuilt_storage == 0] = 128"
   ]
  },
  {
   "cell_type": "code",
   "execution_count": 145,
   "metadata": {
    "ExecuteTime": {
     "end_time": "2021-11-09T10:17:22.752470Z",
     "start_time": "2021-11-09T10:17:22.726925Z"
    }
   },
   "outputs": [
    {
     "data": {
      "text/plain": [
       "array(['128 GB', '64 GB', '32 GB', '16 GB', '4 GB', '32 MB', '512 GB',\n",
       "       '1024 GB', '8 GB', '6 GB', '256 GB', '1000 GB'], dtype=object)"
      ]
     },
     "execution_count": 145,
     "metadata": {},
     "output_type": "execute_result"
    }
   ],
   "source": [
    "new_df.expandable_storage.unique()"
   ]
  },
  {
   "cell_type": "code",
   "execution_count": 146,
   "metadata": {
    "ExecuteTime": {
     "end_time": "2021-11-09T10:17:22.799114Z",
     "start_time": "2021-11-09T10:17:22.758420Z"
    }
   },
   "outputs": [
    {
     "data": {
      "text/plain": [
       "array([1.280e+02, 6.400e+01, 3.200e+01, 1.600e+01, 4.000e+00, 3.200e-02,\n",
       "       5.120e+02, 1.024e+03, 8.000e+00, 6.000e+00, 2.560e+02])"
      ]
     },
     "execution_count": 146,
     "metadata": {},
     "output_type": "execute_result"
    }
   ],
   "source": [
    "new_df.expandable_storage[new_df.expandable_storage == \"32 MB\"] = \"0.032 GB\"\n",
    "new_df.expandable_storage[new_df.expandable_storage == \"1000 GB\"] = \"1024 GB\"\n",
    "new_df.expandable_storage = new_df.expandable_storage.str[:-2]\n",
    "new_df.expandable_storage = new_df.expandable_storage.astype(np.number)\n",
    "new_df.expandable_storage.unique()"
   ]
  },
  {
   "cell_type": "code",
   "execution_count": 147,
   "metadata": {
    "ExecuteTime": {
     "end_time": "2021-11-09T10:17:22.830083Z",
     "start_time": "2021-11-09T10:17:22.804022Z"
    }
   },
   "outputs": [
    {
     "data": {
      "text/plain": [
       "array(['Exynos 850', 'Exynos 9611', 'Mediatek Helio G35', 'Qualcomm',\n",
       "       'Mediatek 6765', 'MediaTek Helio G80', 'Android 8.1',\n",
       "       'Mediatek Helio G25', 'MediaTek | Dimensity 720', 'Android 6.0',\n",
       "       'Qualcomm Snapdragon 865', 'kios', 'Helio G35',\n",
       "       'MediaTek Dimensity 1200-AI', 'MediaTek Helio G85', 'Android 10.0',\n",
       "       'Mediatek P35', 'ThreadX', 'Qualcomm Snapdragon 732G',\n",
       "       'MediaTek G35', 'MediaTek Helio G95', 'Android 11',\n",
       "       'Unisoc SC9863A', 'Mediatek Helio G80',\n",
       "       'MediaTek Octa core Helio A25', 'Mediatek',\n",
       "       'Qualcomm Snapdragon 750G',\n",
       "       'Qualcomm Snapdragon 778G 5G Mobile Platform',\n",
       "       'Funtouch OS 11 (Based on Android 11 (Go Edition))', 'MediaTek',\n",
       "       'Android 10.0, Go Edition', 'Qualcomm Snapdragon 439',\n",
       "       'MediaTek Helio A25', 'Qualcomm SM7325',\n",
       "       'Qualcomm® Snapdragon™ 778G 5G Mobile Platform', 'Spreadtrum',\n",
       "       'Mediatek Helio P35', 'Qualcomm Snapdragon 778G 5G',\n",
       "       'Funtouch OS 11.1 (Based on Android 11)', 'MediaTek | P35',\n",
       "       'Qualcomm MSM8953 Snapdragon 625', 'Symbian 9.3',\n",
       "       'Qualcomm Snapdragon 665', 'S5E3830(Exynos 850)',\n",
       "       'Qualcomm Snapdragon 632', 'Arm Cortex-A78',\n",
       "       'Spreadtrum Octa core SC9863', 'Android 11.0',\n",
       "       'Qualcomm Snapdragon 870', 'Mediatek Dimensity 700'], dtype=object)"
      ]
     },
     "execution_count": 147,
     "metadata": {},
     "output_type": "execute_result"
    }
   ],
   "source": [
    "new_df.processor_brand.unique()"
   ]
  },
  {
   "cell_type": "code",
   "execution_count": 148,
   "metadata": {
    "ExecuteTime": {
     "end_time": "2021-11-09T10:17:22.861941Z",
     "start_time": "2021-11-09T10:17:22.834976Z"
    }
   },
   "outputs": [
    {
     "data": {
      "text/plain": [
       "8                                           Android 8.1\n",
       "15                                          Android 6.0\n",
       "20                                          Android 8.1\n",
       "28                                         Android 10.0\n",
       "38                                           Android 11\n",
       "44                                           Android 11\n",
       "46    Funtouch OS 11 (Based on Android 11 (Go Edition))\n",
       "48                                         Android 10.0\n",
       "49                             Android 10.0, Go Edition\n",
       "50                             Android 10.0, Go Edition\n",
       "58                                         Android 10.0\n",
       "70               Funtouch OS 11.1 (Based on Android 11)\n",
       "75                                          Android 6.0\n",
       "77                                           Android 11\n",
       "81                             Android 10.0, Go Edition\n",
       "83                                          Android 6.0\n",
       "89                                         Android 11.0\n",
       "95                                         Android 11.0\n",
       "Name: processor_brand, dtype: object"
      ]
     },
     "execution_count": 148,
     "metadata": {},
     "output_type": "execute_result"
    }
   ],
   "source": [
    "new_df.processor_brand[new_df.processor_brand.str.contains(\"Android\")]"
   ]
  },
  {
   "cell_type": "code",
   "execution_count": 149,
   "metadata": {
    "ExecuteTime": {
     "end_time": "2021-11-09T10:17:22.909418Z",
     "start_time": "2021-11-09T10:17:22.867897Z"
    }
   },
   "outputs": [
    {
     "data": {
      "text/plain": [
       "array(['Exynos 850', 'Exynos 9611', 'Mediatek Helio G35', 'Qualcomm',\n",
       "       'Mediatek 6765', 'MediaTek Helio G80', 'NA', 'Mediatek Helio G25',\n",
       "       'MediaTek | Dimensity 720', 'Qualcomm Snapdragon 865', 'kios',\n",
       "       'Helio G35', 'MediaTek Dimensity 1200-AI', 'MediaTek Helio G85',\n",
       "       'Mediatek P35', 'ThreadX', 'Qualcomm Snapdragon 732G',\n",
       "       'MediaTek G35', 'MediaTek Helio G95', 'Unisoc SC9863A',\n",
       "       'Mediatek Helio G80', 'MediaTek Octa core Helio A25', 'Mediatek',\n",
       "       'Qualcomm Snapdragon 750G',\n",
       "       'Qualcomm Snapdragon 778G 5G Mobile Platform', 'MediaTek',\n",
       "       'Qualcomm Snapdragon 439', 'MediaTek Helio A25', 'Qualcomm SM7325',\n",
       "       'Qualcomm® Snapdragon™ 778G 5G Mobile Platform', 'Spreadtrum',\n",
       "       'Mediatek Helio P35', 'Qualcomm Snapdragon 778G 5G',\n",
       "       'MediaTek | P35', 'Qualcomm MSM8953 Snapdragon 625', 'Symbian 9.3',\n",
       "       'Qualcomm Snapdragon 665', 'S5E3830(Exynos 850)',\n",
       "       'Qualcomm Snapdragon 632', 'Arm Cortex-A78',\n",
       "       'Spreadtrum Octa core SC9863', 'Qualcomm Snapdragon 870',\n",
       "       'Mediatek Dimensity 700'], dtype=object)"
      ]
     },
     "execution_count": 149,
     "metadata": {},
     "output_type": "execute_result"
    }
   ],
   "source": [
    "new_df.os[new_df.processor_brand.str.contains(\"Android\")] = new_df.processor_brand[new_df.processor_brand.str.contains(\"Android\")]\n",
    "new_df.processor_brand[new_df.processor_brand.str.contains(\"Android\")] = \"NA\"\n",
    "new_df.processor_brand.unique()"
   ]
  },
  {
   "cell_type": "code",
   "execution_count": 150,
   "metadata": {
    "ExecuteTime": {
     "end_time": "2021-11-09T10:17:22.925372Z",
     "start_time": "2021-11-09T10:17:22.913408Z"
    }
   },
   "outputs": [
    {
     "data": {
      "text/plain": [
       "array(['Android 11', 'Android 11.0;OneUI Core3.1', 'Android', 'MIUI 12',\n",
       "       'Android 11, OneU 3.1', 'Android 8.1', 'Android v10',\n",
       "       'Android 6.0', 'Android 11.0, Android 11;Android 11.0',\n",
       "       '1 Year Manufacturer Warranty from the date of purchase',\n",
       "       'Android 11, HiOS 7.6', 'OxygenOS 11.3', 'Android 10.0',\n",
       "       '1 Year Warranty', 'Funtouch OS 11.1 (Based on Android 11)',\n",
       "       'Android 11 (Go edition)',\n",
       "       'HiOS 7.6 based on Android 11-Go Edition', 'Stock Android 10',\n",
       "       'Funtouch OS 12 based on Android 11',\n",
       "       'Funtouch OS 11 (Based on Android 11 (Go Edition))',\n",
       "       'Android 10 (Go Edition, HiOS 6.2, Android 10 (Go)',\n",
       "       'Android 10.0, Go Edition', 'Funtouch OS 11 based on Android v11',\n",
       "       'Android 11 (Go Edition), HiOS 7.5', 'MIUI 20',\n",
       "       'MIUI 12.5 on Android 11, 3 years of Android updates',\n",
       "       'Android 11.0', '1 Year Company Service Center Warranty',\n",
       "       'Android 9.0', 'OxygenOS',\n",
       "       'MiUI 12.5 (Android 11), Android 11 - MiUI 12.5',\n",
       "       'Funtouch OS 11.1 (Based on Android 11), Android 11 - Funtouch OS 11.1',\n",
       "       'Oxygen OS based on Andriod 11',\n",
       "       'Funtouch OS 11 (Based on Android 11)'], dtype=object)"
      ]
     },
     "execution_count": 150,
     "metadata": {},
     "output_type": "execute_result"
    }
   ],
   "source": [
    "new_df.os.unique()"
   ]
  },
  {
   "cell_type": "code",
   "execution_count": 151,
   "metadata": {
    "ExecuteTime": {
     "end_time": "2021-11-09T10:17:22.955296Z",
     "start_time": "2021-11-09T10:17:22.930360Z"
    }
   },
   "outputs": [
    {
     "data": {
      "text/plain": [
       "0                                            Android 11\n",
       "1                            Android 11.0;OneUI Core3.1\n",
       "4                                            Android 11\n",
       "6                                            Android 11\n",
       "7                                  Android 11, OneU 3.1\n",
       "11                                           Android 11\n",
       "12                                           Android 11\n",
       "13                                           Android 11\n",
       "14                                 Android 11, OneU 3.1\n",
       "16                                           Android 11\n",
       "17                Android 11.0, Android 11;Android 11.0\n",
       "18                                           Android 11\n",
       "19                                 Android 11, OneU 3.1\n",
       "22                                 Android 11, HiOS 7.6\n",
       "23                                           Android 11\n",
       "24                                           Android 11\n",
       "26                                 Android 11, OneU 3.1\n",
       "27                                           Android 11\n",
       "29                                           Android 11\n",
       "33                                           Android 11\n",
       "35               Funtouch OS 11.1 (Based on Android 11)\n",
       "36                                           Android 11\n",
       "37                                           Android 11\n",
       "38                                           Android 11\n",
       "39                              Android 11 (Go edition)\n",
       "40               Funtouch OS 11.1 (Based on Android 11)\n",
       "41              HiOS 7.6 based on Android 11-Go Edition\n",
       "44                                           Android 11\n",
       "45                   Funtouch OS 12 based on Android 11\n",
       "46    Funtouch OS 11 (Based on Android 11 (Go Edition))\n",
       "51                  Funtouch OS 11 based on Android v11\n",
       "54                                           Android 11\n",
       "55                    Android 11 (Go Edition), HiOS 7.5\n",
       "56                                           Android 11\n",
       "59                                 Android 11, HiOS 7.6\n",
       "60                   Funtouch OS 12 based on Android 11\n",
       "62                                           Android 11\n",
       "64               Funtouch OS 11.1 (Based on Android 11)\n",
       "65                    Android 11 (Go Edition), HiOS 7.5\n",
       "66                                           Android 11\n",
       "68    MIUI 12.5 on Android 11, 3 years of Android up...\n",
       "70               Funtouch OS 11.1 (Based on Android 11)\n",
       "71                                           Android 11\n",
       "73                                           Android 11\n",
       "74                                           Android 11\n",
       "76                   Funtouch OS 12 based on Android 11\n",
       "77                                           Android 11\n",
       "78                                         Android 11.0\n",
       "84                                           Android 11\n",
       "85                                         Android 11.0\n",
       "88                    Android 11 (Go Edition), HiOS 7.5\n",
       "89                                         Android 11.0\n",
       "90       MiUI 12.5 (Android 11), Android 11 - MiUI 12.5\n",
       "91                                         Android 11.0\n",
       "92    Funtouch OS 11.1 (Based on Android 11), Androi...\n",
       "93              HiOS 7.6 based on Android 11-Go Edition\n",
       "94                        Oxygen OS based on Andriod 11\n",
       "95                                         Android 11.0\n",
       "96                 Funtouch OS 11 (Based on Android 11)\n",
       "97    Funtouch OS 11.1 (Based on Android 11), Androi...\n",
       "Name: os, dtype: object"
      ]
     },
     "execution_count": 151,
     "metadata": {},
     "output_type": "execute_result"
    }
   ],
   "source": [
    "new_df.os[new_df.os.str.contains(\"Android 11\") | new_df.os.str.contains(\"Android v11\")|new_df.os.str.contains(\"Andriod 11\")]"
   ]
  },
  {
   "cell_type": "code",
   "execution_count": 152,
   "metadata": {
    "ExecuteTime": {
     "end_time": "2021-11-09T10:17:23.002572Z",
     "start_time": "2021-11-09T10:17:22.960279Z"
    }
   },
   "outputs": [
    {
     "data": {
      "text/plain": [
       "9                                           Android v10\n",
       "28                                         Android 10.0\n",
       "42                                     Stock Android 10\n",
       "47    Android 10 (Go Edition, HiOS 6.2, Android 10 (Go)\n",
       "48                                         Android 10.0\n",
       "49                             Android 10.0, Go Edition\n",
       "50                             Android 10.0, Go Edition\n",
       "52                                     Stock Android 10\n",
       "58                                         Android 10.0\n",
       "69                                         Android 10.0\n",
       "81                             Android 10.0, Go Edition\n",
       "82                                         Android 10.0\n",
       "Name: os, dtype: object"
      ]
     },
     "execution_count": 152,
     "metadata": {},
     "output_type": "execute_result"
    }
   ],
   "source": [
    "new_df.os[new_df.os.str.contains(\"Android 11\") | new_df.os.str.contains(\"Android v11\") | new_df.os.str.contains(\"Andriod 11\")] = \"Android 11\"\n",
    "new_df.os[new_df.os.str.contains(\"Android 10\") | new_df.os.str.contains(\"Android v10\") | new_df.os.str.contains(\"Andriod 10\")]"
   ]
  },
  {
   "cell_type": "code",
   "execution_count": 153,
   "metadata": {
    "ExecuteTime": {
     "end_time": "2021-11-09T10:17:23.048004Z",
     "start_time": "2021-11-09T10:17:23.008463Z"
    }
   },
   "outputs": [
    {
     "data": {
      "text/plain": [
       "21    1 Year Manufacturer Warranty from the date of ...\n",
       "32                                      1 Year Warranty\n",
       "79               1 Year Company Service Center Warranty\n",
       "Name: os, dtype: object"
      ]
     },
     "execution_count": 153,
     "metadata": {},
     "output_type": "execute_result"
    }
   ],
   "source": [
    "new_df.os[new_df.os.str.contains(\"Android 10\") | new_df.os.str.contains(\"Android v10\") | new_df.os.str.contains(\"Andriod 10\")] = \"Android 10\"\n",
    "new_df.os[new_df.os.str.contains(\"ear\")]"
   ]
  },
  {
   "cell_type": "code",
   "execution_count": 154,
   "metadata": {
    "ExecuteTime": {
     "end_time": "2021-11-09T10:17:23.095207Z",
     "start_time": "2021-11-09T10:17:23.052997Z"
    }
   },
   "outputs": [
    {
     "data": {
      "text/plain": [
       "array(['Android 11', 'Android', 'MIUI 12', 'Android 8.1', 'Android 10',\n",
       "       'Android 6.0', 'NA', 'OxygenOS 11.3', 'MIUI 20', 'Android 9.0',\n",
       "       'OxygenOS'], dtype=object)"
      ]
     },
     "execution_count": 154,
     "metadata": {},
     "output_type": "execute_result"
    }
   ],
   "source": [
    "new_df.warranty[new_df.os.str.contains(\"ear\")] = new_df.os[new_df.os.str.contains(\"ear\")]\n",
    "new_df.os[new_df.os.str.contains(\"ear\")] = \"NA\"\n",
    "new_df.os.unique()"
   ]
  },
  {
   "cell_type": "code",
   "execution_count": 155,
   "metadata": {
    "ExecuteTime": {
     "end_time": "2021-11-09T10:17:23.125127Z",
     "start_time": "2021-11-09T10:17:23.100199Z"
    }
   },
   "outputs": [
    {
     "data": {
      "text/plain": [
       "18"
      ]
     },
     "execution_count": 155,
     "metadata": {},
     "output_type": "execute_result"
    }
   ],
   "source": [
    "new_df.warranty.isnull().sum()"
   ]
  },
  {
   "cell_type": "code",
   "execution_count": 156,
   "metadata": {
    "ExecuteTime": {
     "end_time": "2021-11-09T10:17:24.064731Z",
     "start_time": "2021-11-09T10:17:23.130309Z"
    }
   },
   "outputs": [
    {
     "data": {
      "text/plain": [
       "<AxesSubplot:>"
      ]
     },
     "execution_count": 156,
     "metadata": {},
     "output_type": "execute_result"
    },
    {
     "data": {
      "image/png": "[encoded data removed]",
      "text/plain": [
       "<Figure size 432x288 with 2 Axes>"
      ]
     },
     "metadata": {
      "needs_background": "light"
     },
     "output_type": "display_data"
    }
   ],
   "source": [
    "sns.heatmap(new_df.isnull())"
   ]
  },
  {
   "cell_type": "code",
   "execution_count": 157,
   "metadata": {
    "ExecuteTime": {
     "end_time": "2021-11-09T10:17:24.094396Z",
     "start_time": "2021-11-09T10:17:24.069467Z"
    }
   },
   "outputs": [
    {
     "data": {
      "text/plain": [
       "array(['1 year manufacturer warranty for device and 6 months manufacturer warranty for in-box',\n",
       "       '1 year manufacturer warranty for device and 6 months manufacturer warranty for in-box accessories including batteries from the date of purchase',\n",
       "       nan, '12 months manufacturer',\n",
       "       '1 Year Manufacturer warranty for Mobile and 6 Months for Accessories',\n",
       "       '1 year warranty provided by the manufacturer from date of purchase',\n",
       "       '1 year manufacturer warranty for device and battery and 6 months manufacturer warranty for in-box accessories from the date of purchase',\n",
       "       '12 month warranty',\n",
       "       '1 Year Handset Warranty and 6 Months Warranty on Accessories',\n",
       "       '1 year manufacturer warranty for device and in-box accessories including batteries from the date of purchase',\n",
       "       '12 month warranty, 100 Days - 1 Time screen replacement',\n",
       "       '1 Year Manufacturer',\n",
       "       '1 year manufacturer warranty for device and one time screen replacement for 100 days and 6 months manufacturer warranty for in-box accessories including batteries from the date of purchase',\n",
       "       '100 Days replacement with 1 year warranty for handset and 6 months warranty for accessories(T&C Apply)., 1 year manufacturer warranty for device and 6 months manufacturer warranty for in-box accessories including batteries from the date of purchase',\n",
       "       '6-month seller warranty',\n",
       "       'Brand Warranty of 1 Year Available for Mobile Including Battery and 6 Months for Accessories'],\n",
       "      dtype=object)"
      ]
     },
     "execution_count": 157,
     "metadata": {},
     "output_type": "execute_result"
    }
   ],
   "source": [
    "df.warranty.unique()"
   ]
  },
  {
   "cell_type": "code",
   "execution_count": 158,
   "metadata": {
    "ExecuteTime": {
     "end_time": "2021-11-09T10:17:24.141269Z",
     "start_time": "2021-11-09T10:17:24.101382Z"
    }
   },
   "outputs": [
    {
     "data": {
      "text/html": [
       "<div>\n",
       "<style scoped>\n",
       "    .dataframe tbody tr th:only-of-type {\n",
       "        vertical-align: middle;\n",
       "    }\n",
       "\n",
       "    .dataframe tbody tr th {\n",
       "        vertical-align: top;\n",
       "    }\n",
       "\n",
       "    .dataframe thead th {\n",
       "        text-align: right;\n",
       "    }\n",
       "</style>\n",
       "<table border=\"1\" class=\"dataframe\">\n",
       "  <thead>\n",
       "    <tr style=\"text-align: right;\">\n",
       "      <th></th>\n",
       "      <th>0</th>\n",
       "      <th>1</th>\n",
       "    </tr>\n",
       "  </thead>\n",
       "  <tbody>\n",
       "    <tr>\n",
       "      <th>0</th>\n",
       "      <td>1</td>\n",
       "      <td>year manufacturer warranty for device and 6 mo...</td>\n",
       "    </tr>\n",
       "    <tr>\n",
       "      <th>1</th>\n",
       "      <td>1</td>\n",
       "      <td>year manufacturer warranty for device and 6 mo...</td>\n",
       "    </tr>\n",
       "    <tr>\n",
       "      <th>2</th>\n",
       "      <td>1</td>\n",
       "      <td>year manufacturer warranty for device and 6 mo...</td>\n",
       "    </tr>\n",
       "    <tr>\n",
       "      <th>3</th>\n",
       "      <td>1</td>\n",
       "      <td>year manufacturer warranty for device and 6 mo...</td>\n",
       "    </tr>\n",
       "    <tr>\n",
       "      <th>4</th>\n",
       "      <td>1</td>\n",
       "      <td>year manufacturer warranty for device and 6 mo...</td>\n",
       "    </tr>\n",
       "    <tr>\n",
       "      <th>...</th>\n",
       "      <td>...</td>\n",
       "      <td>...</td>\n",
       "    </tr>\n",
       "    <tr>\n",
       "      <th>157</th>\n",
       "      <td>1</td>\n",
       "      <td>year warranty provided by the manufacturer fro...</td>\n",
       "    </tr>\n",
       "    <tr>\n",
       "      <th>158</th>\n",
       "      <td>NaN</td>\n",
       "      <td>NaN</td>\n",
       "    </tr>\n",
       "    <tr>\n",
       "      <th>159</th>\n",
       "      <td>NaN</td>\n",
       "      <td>NaN</td>\n",
       "    </tr>\n",
       "    <tr>\n",
       "      <th>160</th>\n",
       "      <td>NaN</td>\n",
       "      <td>NaN</td>\n",
       "    </tr>\n",
       "    <tr>\n",
       "      <th>161</th>\n",
       "      <td>1</td>\n",
       "      <td>year warranty provided by the manufacturer fro...</td>\n",
       "    </tr>\n",
       "  </tbody>\n",
       "</table>\n",
       "<p>162 rows × 2 columns</p>\n",
       "</div>"
      ],
      "text/plain": [
       "       0                                                  1\n",
       "0      1  year manufacturer warranty for device and 6 mo...\n",
       "1      1  year manufacturer warranty for device and 6 mo...\n",
       "2      1  year manufacturer warranty for device and 6 mo...\n",
       "3      1  year manufacturer warranty for device and 6 mo...\n",
       "4      1  year manufacturer warranty for device and 6 mo...\n",
       "..   ...                                                ...\n",
       "157    1  year warranty provided by the manufacturer fro...\n",
       "158  NaN                                                NaN\n",
       "159  NaN                                                NaN\n",
       "160  NaN                                                NaN\n",
       "161    1  year warranty provided by the manufacturer fro...\n",
       "\n",
       "[162 rows x 2 columns]"
      ]
     },
     "execution_count": 158,
     "metadata": {},
     "output_type": "execute_result"
    }
   ],
   "source": [
    "df.warranty.str.split(\" \", n = 1, expand = True)"
   ]
  },
  {
   "cell_type": "code",
   "execution_count": 159,
   "metadata": {
    "ExecuteTime": {
     "end_time": "2021-11-09T10:17:24.172236Z",
     "start_time": "2021-11-09T10:17:24.147252Z"
    }
   },
   "outputs": [
    {
     "data": {
      "text/plain": [
       "array(['1', nan, '12', '100', '6-month', 'Brand'], dtype=object)"
      ]
     },
     "execution_count": 159,
     "metadata": {},
     "output_type": "execute_result"
    }
   ],
   "source": [
    "df.warranty.str.split(\" \", n = 1, expand = True)[0].unique()"
   ]
  },
  {
   "cell_type": "code",
   "execution_count": 160,
   "metadata": {
    "ExecuteTime": {
     "end_time": "2021-11-09T10:17:24.203884Z",
     "start_time": "2021-11-09T10:17:24.177215Z"
    }
   },
   "outputs": [
    {
     "data": {
      "text/plain": [
       "1          77\n",
       "12          5\n",
       "6-month     1\n",
       "100         1\n",
       "Brand       1\n",
       "Name: 0, dtype: int64"
      ]
     },
     "execution_count": 160,
     "metadata": {},
     "output_type": "execute_result"
    }
   ],
   "source": [
    "df.warranty.str.split(\" \", n = 1, expand = True)[0].value_counts()"
   ]
  },
  {
   "cell_type": "code",
   "execution_count": 161,
   "metadata": {
    "ExecuteTime": {
     "end_time": "2021-11-09T10:17:24.267587Z",
     "start_time": "2021-11-09T10:17:24.208735Z"
    }
   },
   "outputs": [
    {
     "data": {
      "text/html": [
       "<div>\n",
       "<style scoped>\n",
       "    .dataframe tbody tr th:only-of-type {\n",
       "        vertical-align: middle;\n",
       "    }\n",
       "\n",
       "    .dataframe tbody tr th {\n",
       "        vertical-align: top;\n",
       "    }\n",
       "\n",
       "    .dataframe thead th {\n",
       "        text-align: right;\n",
       "    }\n",
       "</style>\n",
       "<table border=\"1\" class=\"dataframe\">\n",
       "  <thead>\n",
       "    <tr style=\"text-align: right;\">\n",
       "      <th></th>\n",
       "      <th>product_title</th>\n",
       "      <th>price</th>\n",
       "      <th>rear_lens1</th>\n",
       "      <th>rear_lens2</th>\n",
       "      <th>screen_size</th>\n",
       "      <th>screen_type</th>\n",
       "      <th>battery_power</th>\n",
       "      <th>ram</th>\n",
       "      <th>inbuilt_storage</th>\n",
       "      <th>expandable_storage</th>\n",
       "      <th>processor_brand</th>\n",
       "      <th>os</th>\n",
       "      <th>warranty</th>\n",
       "      <th>product_brand</th>\n",
       "      <th>rear_camera</th>\n",
       "    </tr>\n",
       "  </thead>\n",
       "  <tbody>\n",
       "    <tr>\n",
       "      <th>0</th>\n",
       "      <td>Samsung Galaxy M12 (Blue,6GB RAM, 128GB Storag...</td>\n",
       "      <td>11499</td>\n",
       "      <td>48 megapixels</td>\n",
       "      <td>Quad Rear Camera (48 MP + 5 MP + 2 MP + 2 MP) ...</td>\n",
       "      <td>6.50</td>\n",
       "      <td>LCD</td>\n",
       "      <td>6000.0</td>\n",
       "      <td>6.0</td>\n",
       "      <td>128.0</td>\n",
       "      <td>128.0</td>\n",
       "      <td>Exynos 850</td>\n",
       "      <td>Android 11</td>\n",
       "      <td>1 year manufacturer warranty for device and 6 ...</td>\n",
       "      <td>Samsung</td>\n",
       "      <td>48</td>\n",
       "    </tr>\n",
       "    <tr>\n",
       "      <th>1</th>\n",
       "      <td>Samsung Galaxy M21 2021 Edition (Arctic Blue, ...</td>\n",
       "      <td>13999</td>\n",
       "      <td>48</td>\n",
       "      <td>Triple Rear Camera (48 MP + 8 MP + 5 MP) | 20 ...</td>\n",
       "      <td>6.40</td>\n",
       "      <td>AMOLED</td>\n",
       "      <td>6000.0</td>\n",
       "      <td>6.0</td>\n",
       "      <td>128.0</td>\n",
       "      <td>128.0</td>\n",
       "      <td>Exynos 9611</td>\n",
       "      <td>Android 11</td>\n",
       "      <td>1 year manufacturer warranty for device and 6 ...</td>\n",
       "      <td>Samsung</td>\n",
       "      <td>48</td>\n",
       "    </tr>\n",
       "    <tr>\n",
       "      <th>2</th>\n",
       "      <td>Redmi 9 (Sky Blue, 4GB RAM, 64GB Storage) | 2....</td>\n",
       "      <td>8499</td>\n",
       "      <td>13 megapixels</td>\n",
       "      <td>Dual Rear Camera (13 MP + 2 MP) | 5 MP Front C...</td>\n",
       "      <td>6.53</td>\n",
       "      <td>HD+</td>\n",
       "      <td>5000.0</td>\n",
       "      <td>4.0</td>\n",
       "      <td>64.0</td>\n",
       "      <td>64.0</td>\n",
       "      <td>Mediatek Helio G35</td>\n",
       "      <td>Android</td>\n",
       "      <td>1 year manufacturer warranty for device and 6 ...</td>\n",
       "      <td>Redmi</td>\n",
       "      <td>13</td>\n",
       "    </tr>\n",
       "    <tr>\n",
       "      <th>3</th>\n",
       "      <td>Redmi Note 10 Lite (Aurora Blue, 4GB RAM, 64GB...</td>\n",
       "      <td>12999</td>\n",
       "      <td>48 megapixels</td>\n",
       "      <td>Quad Rear Camera (48MP + 2MP + 2MP+ + 2MP) | 1...</td>\n",
       "      <td>6.67</td>\n",
       "      <td>LCD</td>\n",
       "      <td>5020.0</td>\n",
       "      <td>4.0</td>\n",
       "      <td>64.0</td>\n",
       "      <td>64.0</td>\n",
       "      <td>Qualcomm</td>\n",
       "      <td>MIUI 12</td>\n",
       "      <td>1 year manufacturer warranty for device and 6 ...</td>\n",
       "      <td>Redmi</td>\n",
       "      <td>48</td>\n",
       "    </tr>\n",
       "    <tr>\n",
       "      <th>4</th>\n",
       "      <td>Samsung Galaxy M12 (Blue,6GB RAM, 128GB Storag...</td>\n",
       "      <td>11499</td>\n",
       "      <td>48 megapixels</td>\n",
       "      <td>Quad Rear Camera (48 MP + 5 MP + 2 MP + 2 MP) ...</td>\n",
       "      <td>6.50</td>\n",
       "      <td>LCD</td>\n",
       "      <td>6000.0</td>\n",
       "      <td>6.0</td>\n",
       "      <td>128.0</td>\n",
       "      <td>128.0</td>\n",
       "      <td>Exynos 850</td>\n",
       "      <td>Android 11</td>\n",
       "      <td>1 year manufacturer warranty for device and 6 ...</td>\n",
       "      <td>Samsung</td>\n",
       "      <td>48</td>\n",
       "    </tr>\n",
       "    <tr>\n",
       "      <th>...</th>\n",
       "      <td>...</td>\n",
       "      <td>...</td>\n",
       "      <td>...</td>\n",
       "      <td>...</td>\n",
       "      <td>...</td>\n",
       "      <td>...</td>\n",
       "      <td>...</td>\n",
       "      <td>...</td>\n",
       "      <td>...</td>\n",
       "      <td>...</td>\n",
       "      <td>...</td>\n",
       "      <td>...</td>\n",
       "      <td>...</td>\n",
       "      <td>...</td>\n",
       "      <td>...</td>\n",
       "    </tr>\n",
       "    <tr>\n",
       "      <th>93</th>\n",
       "      <td>Tecno Spark 8 (Turquoise Cyan, 2 GB RAM, 64 GB...</td>\n",
       "      <td>7999</td>\n",
       "      <td>16 megapixels</td>\n",
       "      <td>Rear; 16MP+AI Lens (AI Portrait, AI Beauty, HD...</td>\n",
       "      <td>6.52</td>\n",
       "      <td>Incell</td>\n",
       "      <td>5000.0</td>\n",
       "      <td>2.0</td>\n",
       "      <td>256.0</td>\n",
       "      <td>64.0</td>\n",
       "      <td>MediaTek Octa core Helio A25</td>\n",
       "      <td>Android 11</td>\n",
       "      <td>12 month warranty</td>\n",
       "      <td>Tecno</td>\n",
       "      <td>16</td>\n",
       "    </tr>\n",
       "    <tr>\n",
       "      <th>94</th>\n",
       "      <td>OnePlus 9R 5G (Lake Blue, 8GB RAM, 128GB Storage)</td>\n",
       "      <td>36999</td>\n",
       "      <td>48 megapixels</td>\n",
       "      <td>Quad Rear Camera (48 MP + 16 MP + 5 MP + 2 MP)...</td>\n",
       "      <td>6.55</td>\n",
       "      <td>AMOLED</td>\n",
       "      <td>4500.0</td>\n",
       "      <td>8.0</td>\n",
       "      <td>128.0</td>\n",
       "      <td>128.0</td>\n",
       "      <td>Qualcomm Snapdragon 870</td>\n",
       "      <td>Android 11</td>\n",
       "      <td>1 year manufacturer warranty for device and 6 ...</td>\n",
       "      <td>OnePlus</td>\n",
       "      <td>48</td>\n",
       "    </tr>\n",
       "    <tr>\n",
       "      <th>95</th>\n",
       "      <td>(Renewed) OnePlus Nord 2 5G (Blue Haze, 8GB RA...</td>\n",
       "      <td>26999</td>\n",
       "      <td>50 megapixels</td>\n",
       "      <td>50MP+8MP+2MP</td>\n",
       "      <td>6.43</td>\n",
       "      <td>AMOLED</td>\n",
       "      <td>4500.0</td>\n",
       "      <td>8.0</td>\n",
       "      <td>128.0</td>\n",
       "      <td>128.0</td>\n",
       "      <td>NA</td>\n",
       "      <td>Android 11</td>\n",
       "      <td>NaN</td>\n",
       "      <td>OnePlus</td>\n",
       "      <td>50</td>\n",
       "    </tr>\n",
       "    <tr>\n",
       "      <th>96</th>\n",
       "      <td>Vivo Y12G (Phantom Black 3GB RAM, 64GB Stoarge...</td>\n",
       "      <td>11990</td>\n",
       "      <td>13 megapixels</td>\n",
       "      <td>Rear</td>\n",
       "      <td>6.52</td>\n",
       "      <td>LCD</td>\n",
       "      <td>5000.0</td>\n",
       "      <td>3.0</td>\n",
       "      <td>64.0</td>\n",
       "      <td>256.0</td>\n",
       "      <td>Qualcomm</td>\n",
       "      <td>Android 11</td>\n",
       "      <td>1 year warranty provided by the manufacturer f...</td>\n",
       "      <td>Vivo</td>\n",
       "      <td>13</td>\n",
       "    </tr>\n",
       "    <tr>\n",
       "      <th>97</th>\n",
       "      <td>Vivo V21e 5G (Dark Pearl, 8GB RAM, 128GB Stora...</td>\n",
       "      <td>24990</td>\n",
       "      <td>64 megapixels</td>\n",
       "      <td>Dual Rear Camera (64 MP + 8 MP) | 32 MP Front ...</td>\n",
       "      <td>6.44</td>\n",
       "      <td>AMOLED</td>\n",
       "      <td>4000.0</td>\n",
       "      <td>8.0</td>\n",
       "      <td>128.0</td>\n",
       "      <td>128.0</td>\n",
       "      <td>Mediatek Dimensity 700</td>\n",
       "      <td>Android 11</td>\n",
       "      <td>1 year warranty provided by the manufacturer f...</td>\n",
       "      <td>Vivo</td>\n",
       "      <td>64</td>\n",
       "    </tr>\n",
       "  </tbody>\n",
       "</table>\n",
       "<p>98 rows × 15 columns</p>\n",
       "</div>"
      ],
      "text/plain": [
       "                                        product_title  price     rear_lens1  \\\n",
       "0   Samsung Galaxy M12 (Blue,6GB RAM, 128GB Storag...  11499  48 megapixels   \n",
       "1   Samsung Galaxy M21 2021 Edition (Arctic Blue, ...  13999             48   \n",
       "2   Redmi 9 (Sky Blue, 4GB RAM, 64GB Storage) | 2....   8499  13 megapixels   \n",
       "3   Redmi Note 10 Lite (Aurora Blue, 4GB RAM, 64GB...  12999  48 megapixels   \n",
       "4   Samsung Galaxy M12 (Blue,6GB RAM, 128GB Storag...  11499  48 megapixels   \n",
       "..                                                ...    ...            ...   \n",
       "93  Tecno Spark 8 (Turquoise Cyan, 2 GB RAM, 64 GB...   7999  16 megapixels   \n",
       "94  OnePlus 9R 5G (Lake Blue, 8GB RAM, 128GB Storage)  36999  48 megapixels   \n",
       "95  (Renewed) OnePlus Nord 2 5G (Blue Haze, 8GB RA...  26999  50 megapixels   \n",
       "96  Vivo Y12G (Phantom Black 3GB RAM, 64GB Stoarge...  11990  13 megapixels   \n",
       "97  Vivo V21e 5G (Dark Pearl, 8GB RAM, 128GB Stora...  24990  64 megapixels   \n",
       "\n",
       "                                           rear_lens2  screen_size  \\\n",
       "0   Quad Rear Camera (48 MP + 5 MP + 2 MP + 2 MP) ...         6.50   \n",
       "1   Triple Rear Camera (48 MP + 8 MP + 5 MP) | 20 ...         6.40   \n",
       "2   Dual Rear Camera (13 MP + 2 MP) | 5 MP Front C...         6.53   \n",
       "3   Quad Rear Camera (48MP + 2MP + 2MP+ + 2MP) | 1...         6.67   \n",
       "4   Quad Rear Camera (48 MP + 5 MP + 2 MP + 2 MP) ...         6.50   \n",
       "..                                                ...          ...   \n",
       "93  Rear; 16MP+AI Lens (AI Portrait, AI Beauty, HD...         6.52   \n",
       "94  Quad Rear Camera (48 MP + 16 MP + 5 MP + 2 MP)...         6.55   \n",
       "95                                       50MP+8MP+2MP         6.43   \n",
       "96                                               Rear         6.52   \n",
       "97  Dual Rear Camera (64 MP + 8 MP) | 32 MP Front ...         6.44   \n",
       "\n",
       "   screen_type  battery_power  ram  inbuilt_storage  expandable_storage  \\\n",
       "0          LCD         6000.0  6.0            128.0               128.0   \n",
       "1       AMOLED         6000.0  6.0            128.0               128.0   \n",
       "2          HD+         5000.0  4.0             64.0                64.0   \n",
       "3          LCD         5020.0  4.0             64.0                64.0   \n",
       "4          LCD         6000.0  6.0            128.0               128.0   \n",
       "..         ...            ...  ...              ...                 ...   \n",
       "93      Incell         5000.0  2.0            256.0                64.0   \n",
       "94      AMOLED         4500.0  8.0            128.0               128.0   \n",
       "95      AMOLED         4500.0  8.0            128.0               128.0   \n",
       "96         LCD         5000.0  3.0             64.0               256.0   \n",
       "97      AMOLED         4000.0  8.0            128.0               128.0   \n",
       "\n",
       "                 processor_brand          os  \\\n",
       "0                     Exynos 850  Android 11   \n",
       "1                    Exynos 9611  Android 11   \n",
       "2             Mediatek Helio G35     Android   \n",
       "3                       Qualcomm     MIUI 12   \n",
       "4                     Exynos 850  Android 11   \n",
       "..                           ...         ...   \n",
       "93  MediaTek Octa core Helio A25  Android 11   \n",
       "94       Qualcomm Snapdragon 870  Android 11   \n",
       "95                            NA  Android 11   \n",
       "96                      Qualcomm  Android 11   \n",
       "97        Mediatek Dimensity 700  Android 11   \n",
       "\n",
       "                                             warranty product_brand  \\\n",
       "0   1 year manufacturer warranty for device and 6 ...       Samsung   \n",
       "1   1 year manufacturer warranty for device and 6 ...       Samsung   \n",
       "2   1 year manufacturer warranty for device and 6 ...         Redmi   \n",
       "3   1 year manufacturer warranty for device and 6 ...         Redmi   \n",
       "4   1 year manufacturer warranty for device and 6 ...       Samsung   \n",
       "..                                                ...           ...   \n",
       "93                                  12 month warranty         Tecno   \n",
       "94  1 year manufacturer warranty for device and 6 ...       OnePlus   \n",
       "95                                                NaN       OnePlus   \n",
       "96  1 year warranty provided by the manufacturer f...          Vivo   \n",
       "97  1 year warranty provided by the manufacturer f...          Vivo   \n",
       "\n",
       "   rear_camera  \n",
       "0           48  \n",
       "1           48  \n",
       "2           13  \n",
       "3           48  \n",
       "4           48  \n",
       "..         ...  \n",
       "93          16  \n",
       "94          48  \n",
       "95          50  \n",
       "96          13  \n",
       "97          64  \n",
       "\n",
       "[98 rows x 15 columns]"
      ]
     },
     "execution_count": 161,
     "metadata": {},
     "output_type": "execute_result"
    }
   ],
   "source": [
    "new_df"
   ]
  },
  {
   "cell_type": "code",
   "execution_count": 162,
   "metadata": {
    "ExecuteTime": {
     "end_time": "2021-11-09T10:17:24.297526Z",
     "start_time": "2021-11-09T10:17:24.271639Z"
    }
   },
   "outputs": [
    {
     "name": "stdout",
     "output_type": "stream",
     "text": [
      "<class 'pandas.core.frame.DataFrame'>\n",
      "RangeIndex: 98 entries, 0 to 97\n",
      "Data columns (total 15 columns):\n",
      " #   Column              Non-Null Count  Dtype  \n",
      "---  ------              --------------  -----  \n",
      " 0   product_title       98 non-null     object \n",
      " 1   price               98 non-null     int32  \n",
      " 2   rear_lens1          98 non-null     object \n",
      " 3   rear_lens2          98 non-null     object \n",
      " 4   screen_size         98 non-null     float64\n",
      " 5   screen_type         98 non-null     object \n",
      " 6   battery_power       98 non-null     float64\n",
      " 7   ram                 98 non-null     float64\n",
      " 8   inbuilt_storage     98 non-null     float64\n",
      " 9   expandable_storage  98 non-null     float64\n",
      " 10  processor_brand     98 non-null     object \n",
      " 11  os                  98 non-null     object \n",
      " 12  warranty            80 non-null     object \n",
      " 13  product_brand       98 non-null     object \n",
      " 14  rear_camera         98 non-null     object \n",
      "dtypes: float64(5), int32(1), object(9)\n",
      "memory usage: 11.2+ KB\n"
     ]
    }
   ],
   "source": [
    "new_df.info()"
   ]
  },
  {
   "cell_type": "code",
   "execution_count": 163,
   "metadata": {
    "ExecuteTime": {
     "end_time": "2021-11-09T10:17:24.345033Z",
     "start_time": "2021-11-09T10:17:24.301145Z"
    }
   },
   "outputs": [
    {
     "data": {
      "text/html": [
       "<div>\n",
       "<style scoped>\n",
       "    .dataframe tbody tr th:only-of-type {\n",
       "        vertical-align: middle;\n",
       "    }\n",
       "\n",
       "    .dataframe tbody tr th {\n",
       "        vertical-align: top;\n",
       "    }\n",
       "\n",
       "    .dataframe thead th {\n",
       "        text-align: right;\n",
       "    }\n",
       "</style>\n",
       "<table border=\"1\" class=\"dataframe\">\n",
       "  <thead>\n",
       "    <tr style=\"text-align: right;\">\n",
       "      <th></th>\n",
       "      <th>price</th>\n",
       "      <th>screen_size</th>\n",
       "      <th>screen_type</th>\n",
       "      <th>battery_power</th>\n",
       "      <th>ram</th>\n",
       "      <th>inbuilt_storage</th>\n",
       "      <th>expandable_storage</th>\n",
       "      <th>processor_brand</th>\n",
       "      <th>os</th>\n",
       "      <th>product_brand</th>\n",
       "      <th>rear_camera</th>\n",
       "    </tr>\n",
       "  </thead>\n",
       "  <tbody>\n",
       "    <tr>\n",
       "      <th>0</th>\n",
       "      <td>11499</td>\n",
       "      <td>6.50</td>\n",
       "      <td>LCD</td>\n",
       "      <td>6000.0</td>\n",
       "      <td>6.0</td>\n",
       "      <td>128.0</td>\n",
       "      <td>128.0</td>\n",
       "      <td>Exynos 850</td>\n",
       "      <td>Android 11</td>\n",
       "      <td>Samsung</td>\n",
       "      <td>48</td>\n",
       "    </tr>\n",
       "    <tr>\n",
       "      <th>1</th>\n",
       "      <td>13999</td>\n",
       "      <td>6.40</td>\n",
       "      <td>AMOLED</td>\n",
       "      <td>6000.0</td>\n",
       "      <td>6.0</td>\n",
       "      <td>128.0</td>\n",
       "      <td>128.0</td>\n",
       "      <td>Exynos 9611</td>\n",
       "      <td>Android 11</td>\n",
       "      <td>Samsung</td>\n",
       "      <td>48</td>\n",
       "    </tr>\n",
       "    <tr>\n",
       "      <th>2</th>\n",
       "      <td>8499</td>\n",
       "      <td>6.53</td>\n",
       "      <td>HD+</td>\n",
       "      <td>5000.0</td>\n",
       "      <td>4.0</td>\n",
       "      <td>64.0</td>\n",
       "      <td>64.0</td>\n",
       "      <td>Mediatek Helio G35</td>\n",
       "      <td>Android</td>\n",
       "      <td>Redmi</td>\n",
       "      <td>13</td>\n",
       "    </tr>\n",
       "    <tr>\n",
       "      <th>3</th>\n",
       "      <td>12999</td>\n",
       "      <td>6.67</td>\n",
       "      <td>LCD</td>\n",
       "      <td>5020.0</td>\n",
       "      <td>4.0</td>\n",
       "      <td>64.0</td>\n",
       "      <td>64.0</td>\n",
       "      <td>Qualcomm</td>\n",
       "      <td>MIUI 12</td>\n",
       "      <td>Redmi</td>\n",
       "      <td>48</td>\n",
       "    </tr>\n",
       "    <tr>\n",
       "      <th>4</th>\n",
       "      <td>11499</td>\n",
       "      <td>6.50</td>\n",
       "      <td>LCD</td>\n",
       "      <td>6000.0</td>\n",
       "      <td>6.0</td>\n",
       "      <td>128.0</td>\n",
       "      <td>128.0</td>\n",
       "      <td>Exynos 850</td>\n",
       "      <td>Android 11</td>\n",
       "      <td>Samsung</td>\n",
       "      <td>48</td>\n",
       "    </tr>\n",
       "    <tr>\n",
       "      <th>...</th>\n",
       "      <td>...</td>\n",
       "      <td>...</td>\n",
       "      <td>...</td>\n",
       "      <td>...</td>\n",
       "      <td>...</td>\n",
       "      <td>...</td>\n",
       "      <td>...</td>\n",
       "      <td>...</td>\n",
       "      <td>...</td>\n",
       "      <td>...</td>\n",
       "      <td>...</td>\n",
       "    </tr>\n",
       "    <tr>\n",
       "      <th>93</th>\n",
       "      <td>7999</td>\n",
       "      <td>6.52</td>\n",
       "      <td>Incell</td>\n",
       "      <td>5000.0</td>\n",
       "      <td>2.0</td>\n",
       "      <td>256.0</td>\n",
       "      <td>64.0</td>\n",
       "      <td>MediaTek Octa core Helio A25</td>\n",
       "      <td>Android 11</td>\n",
       "      <td>Tecno</td>\n",
       "      <td>16</td>\n",
       "    </tr>\n",
       "    <tr>\n",
       "      <th>94</th>\n",
       "      <td>36999</td>\n",
       "      <td>6.55</td>\n",
       "      <td>AMOLED</td>\n",
       "      <td>4500.0</td>\n",
       "      <td>8.0</td>\n",
       "      <td>128.0</td>\n",
       "      <td>128.0</td>\n",
       "      <td>Qualcomm Snapdragon 870</td>\n",
       "      <td>Android 11</td>\n",
       "      <td>OnePlus</td>\n",
       "      <td>48</td>\n",
       "    </tr>\n",
       "    <tr>\n",
       "      <th>95</th>\n",
       "      <td>26999</td>\n",
       "      <td>6.43</td>\n",
       "      <td>AMOLED</td>\n",
       "      <td>4500.0</td>\n",
       "      <td>8.0</td>\n",
       "      <td>128.0</td>\n",
       "      <td>128.0</td>\n",
       "      <td>NA</td>\n",
       "      <td>Android 11</td>\n",
       "      <td>OnePlus</td>\n",
       "      <td>50</td>\n",
       "    </tr>\n",
       "    <tr>\n",
       "      <th>96</th>\n",
       "      <td>11990</td>\n",
       "      <td>6.52</td>\n",
       "      <td>LCD</td>\n",
       "      <td>5000.0</td>\n",
       "      <td>3.0</td>\n",
       "      <td>64.0</td>\n",
       "      <td>256.0</td>\n",
       "      <td>Qualcomm</td>\n",
       "      <td>Android 11</td>\n",
       "      <td>Vivo</td>\n",
       "      <td>13</td>\n",
       "    </tr>\n",
       "    <tr>\n",
       "      <th>97</th>\n",
       "      <td>24990</td>\n",
       "      <td>6.44</td>\n",
       "      <td>AMOLED</td>\n",
       "      <td>4000.0</td>\n",
       "      <td>8.0</td>\n",
       "      <td>128.0</td>\n",
       "      <td>128.0</td>\n",
       "      <td>Mediatek Dimensity 700</td>\n",
       "      <td>Android 11</td>\n",
       "      <td>Vivo</td>\n",
       "      <td>64</td>\n",
       "    </tr>\n",
       "  </tbody>\n",
       "</table>\n",
       "<p>98 rows × 11 columns</p>\n",
       "</div>"
      ],
      "text/plain": [
       "    price  screen_size screen_type  battery_power  ram  inbuilt_storage  \\\n",
       "0   11499         6.50         LCD         6000.0  6.0            128.0   \n",
       "1   13999         6.40      AMOLED         6000.0  6.0            128.0   \n",
       "2    8499         6.53         HD+         5000.0  4.0             64.0   \n",
       "3   12999         6.67         LCD         5020.0  4.0             64.0   \n",
       "4   11499         6.50         LCD         6000.0  6.0            128.0   \n",
       "..    ...          ...         ...            ...  ...              ...   \n",
       "93   7999         6.52      Incell         5000.0  2.0            256.0   \n",
       "94  36999         6.55      AMOLED         4500.0  8.0            128.0   \n",
       "95  26999         6.43      AMOLED         4500.0  8.0            128.0   \n",
       "96  11990         6.52         LCD         5000.0  3.0             64.0   \n",
       "97  24990         6.44      AMOLED         4000.0  8.0            128.0   \n",
       "\n",
       "    expandable_storage               processor_brand          os  \\\n",
       "0                128.0                    Exynos 850  Android 11   \n",
       "1                128.0                   Exynos 9611  Android 11   \n",
       "2                 64.0            Mediatek Helio G35     Android   \n",
       "3                 64.0                      Qualcomm     MIUI 12   \n",
       "4                128.0                    Exynos 850  Android 11   \n",
       "..                 ...                           ...         ...   \n",
       "93                64.0  MediaTek Octa core Helio A25  Android 11   \n",
       "94               128.0       Qualcomm Snapdragon 870  Android 11   \n",
       "95               128.0                            NA  Android 11   \n",
       "96               256.0                      Qualcomm  Android 11   \n",
       "97               128.0        Mediatek Dimensity 700  Android 11   \n",
       "\n",
       "   product_brand rear_camera  \n",
       "0        Samsung          48  \n",
       "1        Samsung          48  \n",
       "2          Redmi          13  \n",
       "3          Redmi          48  \n",
       "4        Samsung          48  \n",
       "..           ...         ...  \n",
       "93         Tecno          16  \n",
       "94       OnePlus          48  \n",
       "95       OnePlus          50  \n",
       "96          Vivo          13  \n",
       "97          Vivo          64  \n",
       "\n",
       "[98 rows x 11 columns]"
      ]
     },
     "execution_count": 163,
     "metadata": {},
     "output_type": "execute_result"
    }
   ],
   "source": [
    "new_df.drop([\"product_title\",\"rear_lens1\",\"rear_lens2\",\"warranty\"], axis = 1)"
   ]
  },
  {
   "cell_type": "code",
   "execution_count": 164,
   "metadata": {
    "ExecuteTime": {
     "end_time": "2021-11-09T10:17:24.375002Z",
     "start_time": "2021-11-09T10:17:24.349025Z"
    }
   },
   "outputs": [
    {
     "data": {
      "text/plain": [
       "product_title          0\n",
       "price                  0\n",
       "rear_lens1             0\n",
       "rear_lens2             0\n",
       "screen_size            0\n",
       "screen_type            0\n",
       "battery_power          0\n",
       "ram                    0\n",
       "inbuilt_storage        0\n",
       "expandable_storage     0\n",
       "processor_brand        0\n",
       "os                     0\n",
       "warranty              18\n",
       "product_brand          0\n",
       "rear_camera            0\n",
       "dtype: int64"
      ]
     },
     "execution_count": 164,
     "metadata": {},
     "output_type": "execute_result"
    }
   ],
   "source": [
    "new_df.isnull().sum()"
   ]
  },
  {
   "cell_type": "code",
   "execution_count": 167,
   "metadata": {
    "ExecuteTime": {
     "end_time": "2021-11-09T10:17:43.391428Z",
     "start_time": "2021-11-09T10:17:43.372299Z"
    }
   },
   "outputs": [],
   "source": [
    "new_df.drop([\"product_title\",\"rear_lens1\",\"rear_lens2\",\"warranty\"], axis = 1).to_csv(\"AmazonMobilePhones(Cleaned).csv\")"
   ]
  },
  {
   "cell_type": "code",
   "execution_count": null,
   "metadata": {},
   "outputs": [],
   "source": []
  }
 ],
 "metadata": {
  "kernelspec": {
   "display_name": "Python 3",
   "language": "python",
   "name": "python3"
  },
  "language_info": {
   "codemirror_mode": {
    "name": "ipython",
    "version": 3
   },
   "file_extension": ".py",
   "mimetype": "text/x-python",
   "name": "python",
   "nbconvert_exporter": "python",
   "pygments_lexer": "ipython3",
   "version": "3.7.6"
  }
 },
 "nbformat": 4,
 "nbformat_minor": 4
}
